{
  "nbformat": 4,
  "nbformat_minor": 0,
  "metadata": {
    "colab": {
      "name": "IMP!!!!!!.ipynb",
      "provenance": [],
      "collapsed_sections": [
        "uk5pvrQW3fim",
        "lWU3zwVUzECR",
        "OqIpuSqj1LeZ",
        "CirXqQLUUw9d",
        "cX4panRtWX9a",
        "7PukApQj2soO",
        "Z1ubaHE51008",
        "Yi2UtGf87SyS",
        "qm689hImZTDr"
      ],
      "authorship_tag": "ABX9TyPcJzZexUJv4NW33ltDqdnb",
      "include_colab_link": true
    },
    "kernelspec": {
      "name": "python3",
      "display_name": "Python 3"
    },
    "language_info": {
      "name": "python"
    }
  },
  "cells": [
    {
      "cell_type": "markdown",
      "metadata": {
        "id": "view-in-github",
        "colab_type": "text"
      },
      "source": [
        "<a href=\"https://colab.research.google.com/github/karthikmohan1702/prep/blob/main/IMP!!!!!!.ipynb\" target=\"_parent\"><img src=\"https://colab.research.google.com/assets/colab-badge.svg\" alt=\"Open In Colab\"/></a>"
      ]
    },
    {
      "cell_type": "markdown",
      "source": [
        "## Linear Reg"
      ],
      "metadata": {
        "id": "uk5pvrQW3fim"
      }
    },
    {
      "cell_type": "code",
      "execution_count": null,
      "metadata": {
        "colab": {
          "base_uri": "https://localhost:8080/"
        },
        "id": "dqwn6VZcLxvj",
        "outputId": "49ac3473-13c0-453d-b036-8cd5c57d7530"
      },
      "outputs": [
        {
          "output_type": "stream",
          "name": "stdout",
          "text": [
            "0 tensor(25604.4258, grad_fn=<SumBackward0>)\n",
            "10 tensor(1035.3781, grad_fn=<SumBackward0>)\n",
            "20 tensor(614.9171, grad_fn=<SumBackward0>)\n",
            "30 tensor(493.0836, grad_fn=<SumBackward0>)\n",
            "40 tensor(405.9395, grad_fn=<SumBackward0>)\n",
            "50 tensor(337.0068, grad_fn=<SumBackward0>)\n",
            "60 tensor(280.7536, grad_fn=<SumBackward0>)\n",
            "70 tensor(234.3617, grad_fn=<SumBackward0>)\n",
            "80 tensor(195.9686, grad_fn=<SumBackward0>)\n",
            "90 tensor(164.1596, grad_fn=<SumBackward0>)\n",
            "100 tensor(137.7959, grad_fn=<SumBackward0>)\n",
            "110 tensor(115.9420, grad_fn=<SumBackward0>)\n",
            "120 tensor(97.8266, grad_fn=<SumBackward0>)\n",
            "130 tensor(82.8092, grad_fn=<SumBackward0>)\n",
            "140 tensor(70.3602, grad_fn=<SumBackward0>)\n",
            "150 tensor(60.0406, grad_fn=<SumBackward0>)\n",
            "160 tensor(51.4857, grad_fn=<SumBackward0>)\n",
            "170 tensor(44.3940, grad_fn=<SumBackward0>)\n",
            "180 tensor(38.5153, grad_fn=<SumBackward0>)\n",
            "190 tensor(33.6419, grad_fn=<SumBackward0>)\n"
          ]
        }
      ],
      "source": [
        "# @@@@@@@@@@@@@@@@@@@@@@@@@@@@@@@@@@@@@@@@@@@@@@@@@@@@@@@@@@@\n",
        "# @@@@@@@@@@@@@@@@@@@@@@@@@@@@@@@@@@@@@@@@@@@@@@@@@@@@@@@@@@@\n",
        "import numpy as np, torch\n",
        "\n",
        "# Input (temp, rainfall, humidity)\n",
        "inputs = np.array([[73, 67, 43], \n",
        "                   [91, 88, 64], \n",
        "                   [87, 134, 58], \n",
        "                   [102, 43, 37], \n",
        "                   [69, 96, 70]], dtype='float32')\n",
        "\n",
        "# Targets (apples, oranges)\n",
        "targets = np.array([[56], \n",
        "                    [81], \n",
        "                    [119], \n",
        "                    [22], \n",
        "                    [103]], dtype='float32')\n",
        "\n",
        "# Convert numpy to tensor\n",
        "x = torch.from_numpy(inputs)\n",
        "y = torch.from_numpy(targets)\n",
        "# print(x.shape, y.shape)\n",
        "\n",
        "# Weights and biases\n",
        "w = torch.randn(2, 3, requires_grad=True)\n",
        "b = torch.randn(2, requires_grad=True)\n",
        "# print(w)\n",
        "# print(b)\n",
        "\n",
        "# Train for 100 epochs\n",
        "for i in range(200):\n",
        "    pred = x.mm(w.t()) + b\n",
        "    loss = (pred - y).pow(2).sum()\n",
        "    loss.backward()\n",
        "    if i % 10==0:\n",
        "      print(i, loss)\n",
        "    with torch.no_grad():\n",
        "        w -= w.grad * 1e-5\n",
        "        b -= b.grad * 1e-5\n",
        "        w.grad.zero_()\n",
        "        b.grad.zero_()"
      ]
    },
    {
      "cell_type": "code",
      "source": [
        "# @@@@@@@@@@@@@@@@@@@@@@@@@@@@@@@@@@@@@@@@@@@@@@@@@@@@@@@@@@@\n",
        "# @@@@@@@@@@@@@@@@@@@@@@@@@@@@@@@@@@@@@@@@@@@@@@@@@@@@@@@@@@@\n",
        "import numpy as np\n",
        "import torch\n",
        "\n",
        "x = torch.tensor(3, dtype=torch.float)\n",
        "m = torch.tensor(4, dtype=torch.float, requires_grad=True)\n",
        "b = torch.tensor(5, dtype=torch.float, requires_grad=True)\n",
        "print(x,m,b)\n",
        "\n",
        "y = m*x + b\n",
        "print(y)\n",
        "\n",
        "y.backward()\n",
        "\n",
        "print(\"Gradients --> \", m.grad, b.grad)"
      ],
      "metadata": {
        "colab": {
          "base_uri": "https://localhost:8080/"
        },
        "id": "5JhMOdvsL591",
        "outputId": "c4fe46d6-2dd2-4a68-f2b6-a4a3c0487234"
      },
      "execution_count": null,
      "outputs": [
        {
          "output_type": "stream",
          "name": "stdout",
          "text": [
            "tensor(3.) tensor(4., requires_grad=True) tensor(5., requires_grad=True)\n",
            "tensor(17., grad_fn=<AddBackward0>)\n",
            "Gradients -->  tensor(3.) tensor(1.)\n"
          ]
        }
      ]
    },
    {
      "cell_type": "code",
      "source": [
        "# @@@@@@@@@@@@@@@@@@@@@@@@@@@@@@@@@@@@@@@@@@@@@@@@@@@@@@@@@@@\n",
        "# @@@@@@@@@@@@@@@@@@@@@@@@@@@@@@@@@@@@@@@@@@@@@@@@@@@@@@@@@@@\n",
        "\n",
        "# Linear Regression Model using PyTorch built-ins\n",
        "# Let's re-implement the same model using some built-in functions \n",
        "# and classes from PyTorch.\n",
        "\n",
        "# Imports\n",
        "import torch.nn as nn\n",
        "# Input (temp, rainfall, humidity)\n",
        "inputs = np.array([[73, 67, 43], [91, 88, 64], [87, 134, 58], [102, 43, 37], \n",
        "                   [69, 96, 70], [73, 67, 43], [91, 88, 64], [87, 134, 58], \n",
        "                   [102, 43, 37], [69, 96, 70], [73, 67, 43], [91, 88, 64], \n",
        "                   [87, 134, 58], [102, 43, 37], [69, 96, 70]], dtype='float32')\n",
        "# Targets (apples, oranges)\n",
        "targets = np.array([[56], [81], [119], [22], [103], \n",
        "                    [56], [81], [119], [22], [103], \n",
        "                    [56], [81], [119], [22], [103]], \n",
        "                   dtype='float32')\n",
        "inputs = torch.from_numpy(inputs)\n",
        "targets = torch.from_numpy(targets)\n",
        "\n",
        "print(inputs.shape, targets.shape)\n",
        "\n",
        "# Dataset and DataLoader\n",
        "# We'll create a TensorDataset, which allows access to rows from inputs and \n",
        "# targets as tuples. We'll also create a DataLoader, to split the data into \n",
        "# batches while training. It also provides other utilities like shuffling \n",
        "# and sampling\n",
        "\n",
        "# Import tensor dataset & data loader\n",
        "from torch.utils.data import TensorDataset, DataLoader\n",
        "\n",
        "# Define dataset\n",
        "train_ds = TensorDataset(inputs, targets)\n",
        "print(train_ds[0:3])\n",
        "\n",
        "# Define data loader\n",
        "batch_size = 5\n",
        "train_dl = DataLoader(train_ds, batch_size, shuffle=True)\n",
        "next(iter(train_dl))\n",
        "\n",
        "# nn.Linear\n",
        "# Instead of initializing the weights & biases manually, we can define the \n",
        "# model using nn.Linear.\n",
        "\n",
        "# Define model\n",
        "model = nn.Linear(3, 1)\n",
        "print(model.weight)\n",
        "print(model.bias)\n",
        "\n",
        "# Define optimizer\n",
        "opt = torch.optim.SGD(model.parameters(), lr=1e-5)\n",
        "print(opt)\n",
        "\n",
        "# Import nn.functional\n",
        "import torch.nn.functional as F\n",
        "\n",
        "# Define loss function\n",
        "loss_fn = F.mse_loss\n",
        "loss = loss_fn(model(inputs), targets)\n",
        "print(loss)\n",
        "\n",
        "# Generate predictions - One epoch or once\n",
        "preds = model(inputs)\n",
        "preds\n",
        "\n",
        "# ---------- If want to run for multiple epochs create a fun\n",
        "\n",
        "#Train the model\n",
        "#We are ready to train the model now. We can define a utility function fit \n",
        "#which trains the model for a given number of epochs.\n",
        "\n",
        "# Define a utility function to train the model\n",
        "def fit(num_epochs, model, loss_fn, opt):\n",
        "    for epoch in range(num_epochs):\n",
        "        for xb,yb in train_dl:\n",
        "            # Generate predictions\n",
        "            pred = model(xb)\n",
        "            loss = loss_fn(pred, yb)\n",
        "            # Perform gradient descent\n",
        "            # loss.backward()\n",
        "            # opt.step()\n",
        "            # opt.zero_grad()\n",
        "            # Zero gradients, perform a backward pass,\n",
        "            # and update the weights.\n",
        "            opt.zero_grad()\n",
        "            loss.backward()\n",
        "            opt.step()\n",
        "    print('Training loss: ', loss_fn(model(inputs), targets))\n",
        "    return model  \n",
        "\n",
        "final_op_after_epochs = fit(num_epochs=10000, model=model, loss_fn=loss_fn, opt=opt)(inputs)\n",
        "final_op_after_epochs, targets"
      ],
      "metadata": {
        "colab": {
          "base_uri": "https://localhost:8080/"
        },
        "id": "zVcylnDUL8SN",
        "outputId": "28f36f77-3152-42e3-e356-9d1edfeebba8"
      },
      "execution_count": null,
      "outputs": [
        {
          "output_type": "stream",
          "name": "stdout",
          "text": [
            "torch.Size([15, 3]) torch.Size([15, 1])\n",
            "(tensor([[ 73.,  67.,  43.],\n",
            "        [ 91.,  88.,  64.],\n",
            "        [ 87., 134.,  58.]]), tensor([[ 56.],\n",
            "        [ 81.],\n",
            "        [119.]]))\n",
            "Parameter containing:\n",
            "tensor([[ 0.5630, -0.2876, -0.4453]], requires_grad=True)\n",
            "Parameter containing:\n",
            "tensor([0.2646], requires_grad=True)\n",
            "SGD (\n",
            "Parameter Group 0\n",
            "    dampening: 0\n",
            "    lr: 1e-05\n",
            "    momentum: 0\n",
            "    nesterov: False\n",
            "    weight_decay: 0\n",
            ")\n",
            "tensor(8568.7490, grad_fn=<MseLossBackward0>)\n",
            "Training loss:  tensor(0.9910, grad_fn=<MseLossBackward0>)\n"
          ]
        },
        {
          "output_type": "execute_result",
          "data": {
            "text/plain": [
              "(tensor([[ 57.2163],\n",
              "         [ 82.1909],\n",
              "         [118.7002],\n",
              "         [ 21.0851],\n",
              "         [101.9369],\n",
              "         [ 57.2163],\n",
              "         [ 82.1909],\n",
              "         [118.7002],\n",
              "         [ 21.0851],\n",
              "         [101.9369],\n",
              "         [ 57.2163],\n",
              "         [ 82.1909],\n",
              "         [118.7002],\n",
              "         [ 21.0851],\n",
              "         [101.9369]], grad_fn=<AddmmBackward0>), tensor([[ 56.],\n",
              "         [ 81.],\n",
              "         [119.],\n",
              "         [ 22.],\n",
              "         [103.],\n",
              "         [ 56.],\n",
              "         [ 81.],\n",
              "         [119.],\n",
              "         [ 22.],\n",
              "         [103.],\n",
              "         [ 56.],\n",
              "         [ 81.],\n",
              "         [119.],\n",
              "         [ 22.],\n",
              "         [103.]]))"
            ]
          },
          "metadata": {},
          "execution_count": 3
        }
      ]
    },
    {
      "cell_type": "code",
      "source": [
        "import numpy as np\n",
        "import torch\n",
        "import matplotlib.pyplot as plt\n",
        "\n",
        "x_train = np.array([5, 10, 15, 20, 25, 30]).astype(np.float32).reshape((-1, 1))\n",
        "y_train = np.array([4, 8, 16, 24, 24, 28]).astype(np.float32).reshape((-1, 1))\n",
        "print(x_train.shape, y_train.shape)\n",
        "\n",
        "plt.scatter(x_train, y_train)\n",
        "plt.legend()\n",
        "plt.show()\n",
        "\n",
        "X_train = torch.from_numpy(x_train)\n",
        "Y_train = torch.from_numpy(y_train)\n",
        "\n",
        "print(X_train.requires_grad, Y_train.requires_grad)\n",
        "\n",
        "# Building network\n",
        "input_size = 1\n",
        "hidden_size = 1\n",
        "output_size = 1\n",
        "\n",
        "# w1 contains weights for the neural network, requires grad should be \n",
        "# true, since these are the model params we r gng to train\n",
        "w1 = torch.rand(input_size, hidden_size, requires_grad=True)\n",
        "print(w1.shape)\n",
        "\n",
        "w2 = torch.rand(hidden_size, output_size, requires_grad=True)\n",
        "print(w2.shape)\n",
        "\n",
        "learning_rate = 1e-6\n",
        "for iter in range(1,1000):\n",
        "  y_pred = X_train.mm(w1).mm(w2)\n",
        "  loss = (y_pred - Y_train).pow(2).sum()\n",
        "\n",
        "  if iter % 20 ==0:\n",
        "    print(iter, loss.item())\n",
        "  \n",
        "  loss.backward()\n",
        "\n",
        "  with torch.no_grad():\n",
        "    w1 -= learning_rate * w1.grad\n",
        "    w2 -= learning_rate * w2.grad\n",
        "    w1.grad.zero_() # zero out the existing gradients\n",
        "    w2.grad.zero_()\n",
        "\n",
        "print(\"w1: \", w1)\n",
        "print(\"\\n\")\n",
        "print(\"w2: \", w2)\n",
        "\n",
        "x_train_tensor = torch.from_numpy(x_train)\n",
        "\n",
        "predicted_tensor = x_train_tensor.mm(w1).mm(w2)\n",
        "\n",
        "#convert it to numpy, so we can visualize in matplotlib\n",
        "predicted = predicted_tensor.detach().numpy()\n",
        "\n",
        "# for 1000 epochs\n",
        "plt.figure(figsize=(12,8))\n",
        "\n",
        "plt.scatter(x_train, y_train, label=\"Original data\", s=250, c='g' )\n",
        "plt.plot(x_train, predicted, label=\"Fitted line\")\n",
        "plt.legend()\n",
        "plt.show()"
      ],
      "metadata": {
        "colab": {
          "base_uri": "https://localhost:8080/",
          "height": 1000
        },
        "id": "8BvNOnC-3ity",
        "outputId": "e4e19c60-ea05-4245-cb48-bf71235de996"
      },
      "execution_count": null,
      "outputs": [
        {
          "output_type": "stream",
          "name": "stderr",
          "text": [
            "No handles with labels found to put in legend.\n"
          ]
        },
        {
          "output_type": "stream",
          "name": "stdout",
          "text": [
            "(6, 1) (6, 1)\n"
          ]
        },
        {
          "output_type": "display_data",
          "data": {
            "image/png": "[encoded data removed]",
            "text/plain": [
              "<Figure size 432x288 with 1 Axes>"
            ]
          },
          "metadata": {
            "needs_background": "light"
          }
        },
        {
          "output_type": "stream",
          "name": "stdout",
          "text": [
            "False False\n",
            "torch.Size([1, 1])\n",
            "torch.Size([1, 1])\n",
            "20 45.01030731201172\n",
            "40 39.88125991821289\n",
            "60 36.16156768798828\n",
            "80 33.48149871826172\n",
            "100 31.561161041259766\n",
            "120 30.191728591918945\n",
            "140 29.219018936157227\n",
            "160 28.530479431152344\n",
            "180 28.044471740722656\n",
            "200 27.702255249023438\n",
            "220 27.46177864074707\n",
            "240 27.293067932128906\n",
            "260 27.174882888793945\n",
            "280 27.092193603515625\n",
            "300 27.034404754638672\n",
            "320 26.994033813476562\n",
            "340 26.96586799621582\n",
            "360 26.94622039794922\n",
            "380 26.932523727416992\n",
            "400 26.922971725463867\n",
            "420 26.916345596313477\n",
            "440 26.911701202392578\n",
            "460 26.908472061157227\n",
            "480 26.906230926513672\n",
            "500 26.904666900634766\n",
            "520 26.903587341308594\n",
            "540 26.902820587158203\n",
            "560 26.90230369567871\n",
            "580 26.901931762695312\n",
            "600 26.90168571472168\n",
            "620 26.901506423950195\n",
            "640 26.901390075683594\n",
            "660 26.90130615234375\n",
            "680 26.901229858398438\n",
            "700 26.901203155517578\n",
            "720 26.901161193847656\n",
            "740 26.901140213012695\n",
            "760 26.90113639831543\n",
            "780 26.901107788085938\n",
            "800 26.901124954223633\n",
            "820 26.90110969543457\n",
            "840 26.901103973388672\n",
            "860 26.90110969543457\n",
            "880 26.901100158691406\n",
            "900 26.901113510131836\n",
            "920 26.901100158691406\n",
            "940 26.90110206604004\n",
            "960 26.90109634399414\n",
            "980 26.90109634399414\n",
            "w1:  tensor([[0.9966]], requires_grad=True)\n",
            "\n",
            "\n",
            "w2:  tensor([[0.9967]], requires_grad=True)\n"
          ]
        },
        {
          "output_type": "display_data",
          "data": {
            "image/png": "[encoded data removed]",
            "text/plain": [
              "<Figure size 864x576 with 1 Axes>"
            ]
          },
          "metadata": {
            "needs_background": "light"
          }
        }
      ]
    },
    {
      "cell_type": "code",
      "source": [
        ""
      ],
      "metadata": {
        "id": "Kgtgni2N3rCF"
      },
      "execution_count": null,
      "outputs": []
    },
    {
      "cell_type": "code",
      "source": [
        ""
      ],
      "metadata": {
        "id": "tFXSf5Vc3q_r"
      },
      "execution_count": null,
      "outputs": []
    },
    {
      "cell_type": "code",
      "source": [
        ""
      ],
      "metadata": {
        "id": "1ougMzNm3q8i"
      },
      "execution_count": null,
      "outputs": []
    },
    {
      "cell_type": "code",
      "source": [
        ""
      ],
      "metadata": {
        "id": "GP4NvH8N3q6D"
      },
      "execution_count": null,
      "outputs": []
    },
    {
      "cell_type": "code",
      "source": [
        ""
      ],
      "metadata": {
        "id": "AIjZxUh83q3W"
      },
      "execution_count": null,
      "outputs": []
    },
    {
      "cell_type": "markdown",
      "source": [
        "## Pytorch Basics "
      ],
      "metadata": {
        "id": "lWU3zwVUzECR"
      }
    },
    {
      "cell_type": "code",
      "source": [
        "import torch\n",
        "t1 = torch.Tensor([1,2])\n",
        "t2 = torch.Tensor([10,20])\n",
        "\n",
        "print(t1, t2)\n",
        "\n",
        "dot_prod = torch.dot(t1, t2)\n",
        "dot_prod"
      ],
      "metadata": {
        "id": "59YfiQztL-Jx",
        "colab": {
          "base_uri": "https://localhost:8080/"
        },
        "outputId": "5d07afd1-c319-4734-bb48-7f9fd736695a"
      },
      "execution_count": null,
      "outputs": [
        {
          "output_type": "stream",
          "name": "stdout",
          "text": [
            "tensor([1., 2.]) tensor([10., 20.])\n"
          ]
        },
        {
          "output_type": "execute_result",
          "data": {
            "text/plain": [
              "tensor(50.)"
            ]
          },
          "metadata": {},
          "execution_count": 4
        }
      ]
    },
    {
      "cell_type": "code",
      "source": [
        "matrix = torch.Tensor([[1,2,3],\n",
        "                       [4,5,6]])\n",
        "\n",
        "vector = torch.Tensor([0,1,2])\n",
        "\n",
        "print(matrix, vector)\n",
        "matrix_vector = torch.mv(matrix, vector)\n",
        "matrix_vector"
      ],
      "metadata": {
        "colab": {
          "base_uri": "https://localhost:8080/"
        },
        "id": "hKb9a6YTyWqo",
        "outputId": "d6d3f228-27f1-44fa-a11a-32bb3eed9e99"
      },
      "execution_count": null,
      "outputs": [
        {
          "output_type": "stream",
          "name": "stdout",
          "text": [
            "tensor([[1., 2., 3.],\n",
            "        [4., 5., 6.]]) tensor([0., 1., 2.])\n"
          ]
        },
        {
          "output_type": "execute_result",
          "data": {
            "text/plain": [
              "tensor([ 8., 17.])"
            ]
          },
          "metadata": {},
          "execution_count": 5
        }
      ]
    },
    {
      "cell_type": "code",
      "source": [
        "another_matrix = torch.Tensor([[10,30],\n",
        "                               [20,0],\n",
        "                               [0,50]])\n",
        "print(another_matrix)\n",
        "matrix_mul = torch.mm(matrix, another_matrix)\n",
        "matrix_mul"
      ],
      "metadata": {
        "colab": {
          "base_uri": "https://localhost:8080/"
        },
        "id": "QbQuWJAWyYru",
        "outputId": "0d4f137c-3354-4e7c-de33-a71451dd01a4"
      },
      "execution_count": null,
      "outputs": [
        {
          "output_type": "stream",
          "name": "stdout",
          "text": [
            "tensor([[10., 30.],\n",
            "        [20.,  0.],\n",
            "        [ 0., 50.]])\n"
          ]
        },
        {
          "output_type": "execute_result",
          "data": {
            "text/plain": [
              "tensor([[ 50., 180.],\n",
              "        [140., 420.]])"
            ]
          },
          "metadata": {},
          "execution_count": 6
        }
      ]
    },
    {
      "cell_type": "code",
      "source": [
        "torch.argmax(matrix_mul, dim=1) # 420 is the element"
      ],
      "metadata": {
        "colab": {
          "base_uri": "https://localhost:8080/"
        },
        "id": "3RiigvrYytt5",
        "outputId": "0654bcf6-c326-41e9-9d13-42b504b4fe5d"
      },
      "execution_count": null,
      "outputs": [
        {
          "output_type": "execute_result",
          "data": {
            "text/plain": [
              "tensor([1, 1])"
            ]
          },
          "metadata": {},
          "execution_count": 7
        }
      ]
    },
    {
      "cell_type": "code",
      "source": [
        "torch.argmin(matrix_mul, dim=1)"
      ],
      "metadata": {
        "colab": {
          "base_uri": "https://localhost:8080/"
        },
        "id": "TSpZMZ6tyyhj",
        "outputId": "2e918fa6-1e54-47aa-eb98-b006f854bb9d"
      },
      "execution_count": null,
      "outputs": [
        {
          "output_type": "execute_result",
          "data": {
            "text/plain": [
              "tensor([0, 0])"
            ]
          },
          "metadata": {},
          "execution_count": 8
        }
      ]
    },
    {
      "cell_type": "markdown",
      "source": [
        "## Autograd"
      ],
      "metadata": {
        "id": "OqIpuSqj1LeZ"
      }
    },
    {
      "cell_type": "code",
      "metadata": {
        "id": "WYWY4y1OFpUp",
        "colab": {
          "base_uri": "https://localhost:8080/"
        },
        "outputId": "06d73b83-c606-4a15-f06e-eba5b9e42c94"
      },
      "source": [
        "# Training using autograd in pytorch\n",
        "\n",
        "tensor1 = torch.Tensor([[1,2,3],\n",
        "                        [4,5,6]])\n",
        "tensor2 = torch.Tensor([[7,8,9],\n",
        "                        [10,11,12]])\n",
        "(tensor1, tensor2)\n",
        "tensor1.requires_grad_()"
      ],
      "execution_count": null,
      "outputs": [
        {
          "output_type": "execute_result",
          "data": {
            "text/plain": [
              "tensor([[1., 2., 3.],\n",
              "        [4., 5., 6.]], requires_grad=True)"
            ]
          },
          "metadata": {},
          "execution_count": 10
        }
      ]
    },
    {
      "cell_type": "code",
      "source": [
        "output_tensor = tensor1 * tensor2\n",
        "output_tensor"
      ],
      "metadata": {
        "colab": {
          "base_uri": "https://localhost:8080/"
        },
        "id": "eGXMXt7C1yrw",
        "outputId": "da70f693-6810-4c7f-dc27-36f90003c662"
      },
      "execution_count": null,
      "outputs": [
        {
          "output_type": "execute_result",
          "data": {
            "text/plain": [
              "tensor([[ 7., 16., 27.],\n",
              "        [40., 55., 72.]], grad_fn=<MulBackward0>)"
            ]
          },
          "metadata": {},
          "execution_count": 11
        }
      ]
    },
    {
      "cell_type": "code",
      "source": [
        "output_tensor_mean = (tensor1 * tensor2).mean()\n",
        "output_tensor_mean"
      ],
      "metadata": {
        "colab": {
          "base_uri": "https://localhost:8080/"
        },
        "id": "TlrIl2hG16vR",
        "outputId": "6bd92fd5-8e4b-455c-9ea0-9e54c37947c5"
      },
      "execution_count": null,
      "outputs": [
        {
          "output_type": "execute_result",
          "data": {
            "text/plain": [
              "tensor(36.1667, grad_fn=<MeanBackward0>)"
            ]
          },
          "metadata": {},
          "execution_count": 12
        }
      ]
    },
    {
      "cell_type": "code",
      "source": [
        "# this will begin the backward pass through our computation graph \n",
        "# & now we have gradients for tensor 1, these gradients here are\n",
        "# the partial derivatives for the params in tensor 1 calc with\n",
        "# reference to the output tensor\n",
        "output_tensor_mean.backward()"
      ],
      "metadata": {
        "id": "2lZwudg92EYy"
      },
      "execution_count": null,
      "outputs": []
    },
    {
      "cell_type": "code",
      "source": [
        "tensor1.grad, tensor2.grad"
      ],
      "metadata": {
        "colab": {
          "base_uri": "https://localhost:8080/"
        },
        "id": "qgxdS1ym2OI2",
        "outputId": "6ce66dce-9c79-4b0d-ef18-8ffd160d0f99"
      },
      "execution_count": null,
      "outputs": [
        {
          "output_type": "execute_result",
          "data": {
            "text/plain": [
              "(tensor([[1.1667, 1.3333, 1.5000],\n",
              "         [1.6667, 1.8333, 2.0000]]), None)"
            ]
          },
          "metadata": {},
          "execution_count": 15
        }
      ]
    },
    {
      "cell_type": "code",
      "source": [
        ""
      ],
      "metadata": {
        "id": "5JDZboP62eC2"
      },
      "execution_count": null,
      "outputs": []
    },
    {
      "cell_type": "markdown",
      "source": [
        "## Python Basics "
      ],
      "metadata": {
        "id": "CirXqQLUUw9d"
      }
    },
    {
      "cell_type": "code",
      "source": [
        "# Write a code to check whether a key is present in dictionary or not?\n",
        "Dict = {\"Name\": \"Ayesha\", \"School\": \"DPS\"}\n",
        "key  = input()\n",
        "if key in Dict.keys():\n",
        "  print(\"Key is present\")\n",
        "else:\n",
        "  print(\"Key is not present\")"
      ],
      "metadata": {
        "id": "cRpoSAdeUzWb"
      },
      "execution_count": null,
      "outputs": []
    },
    {
      "cell_type": "code",
      "source": [
        "# pd.datetime()\n",
        "df = pd.DataFrame({'year': [2015, 2016],\n",
        "                   'month': [2, 3],\n",
        "                   'day': [4, 5]})\n",
        "display(df)\n",
        "\n",
        "display(pd.to_datetime(df))\n",
        "\n",
        "display(pd.to_datetime('13000101', format='%Y%m%d', errors='ignore'))"
      ],
      "metadata": {
        "id": "gvzU70AOU3Fv"
      },
      "execution_count": null,
      "outputs": []
    },
    {
      "cell_type": "code",
      "source": [
        "#  Given a list and a number find two numbers in the list that sums up to the number given?\n",
        "a = [1,2,3,4,5,6,8] \n",
        "given_no = 9 \n",
        "mm = [] \n",
        "count =0 \n",
        "for x,y in enumerate(a): \n",
        "  for j in range(x+1, len(a)): \n",
        "    total_of_two_items = a[x] + a[j] \n",
        "    if total_of_two_items == given_no: \n",
        "      mm.append((a[x],a[j])) \n",
        "      print (mm)"
      ],
      "metadata": {
        "id": "siI8lORLVXGa"
      },
      "execution_count": null,
      "outputs": []
    },
    {
      "cell_type": "code",
      "source": [
        "print(round(3.33), round(3.64))"
      ],
      "metadata": {
        "id": "wJlhnT4xVXEH"
      },
      "execution_count": null,
      "outputs": []
    },
    {
      "cell_type": "code",
      "source": [
        "# Sometimes, you may need a largest integer smaller than given number, or a \n",
        "# smallest integer, that is larger than given number. This is where floor() \n",
        "# and ceil() functions in math module are used.\n",
        "\n",
        "# As the name suggests, ceil() stands for ceiling. It returns nearest integer \n",
        "# greater than given number or numeric expression.\n",
        "\n",
        "import math\n",
        "math.ceil(3.33)\n",
        "4\n",
        "math.ceil(3.65)\n",
        "4\n",
        "\n",
        "------------------------------------------------------\n",
        "\n",
        "# The floor() function on the other hand returns integer that is smaller than \n",
        "# given number or numeric expression indicating that given number is larger \n",
        "# than a certain fraction from the resulting integer.\n",
        "\n",
        "import math\n",
        "math.floor(3.33)\n",
        "3\n",
        "math.floor(3.65)\n",
        "3\n",
        "\n",
        "------------------------------------------------------\n",
        "\n",
        "# The floor() function shows a peculiar behaviour when the number or numeric \n",
        "# expression is negative. In such case, the result is floored away from 0."
      ],
      "metadata": {
        "id": "PXjoFTC1VXBY"
      },
      "execution_count": null,
      "outputs": []
    },
    {
      "cell_type": "code",
      "source": [
        "str = \"hjsh#\"\n",
        "print(str.isalnum())"
      ],
      "metadata": {
        "id": "6GOSz9hrVW-R"
      },
      "execution_count": null,
      "outputs": []
    },
    {
      "cell_type": "code",
      "source": [
        "max(\"please help\"), max(\"pleasze help\")\n"
      ],
      "metadata": {
        "id": "I_MOOoOPWdjJ"
      },
      "execution_count": null,
      "outputs": []
    },
    {
      "cell_type": "code",
      "source": [
        "def simpleGeneratorFun():\n",
        "    yield 1\n",
        "    yield 2\n",
        "    yield 3\n",
        "\n",
        "res = simpleGeneratorFun()\n",
        "print(res, type(res))\n",
        "print(next(res))\n",
        "print(next(res))\n",
        "print(next(res))"
      ],
      "metadata": {
        "id": "PwKBwIxEWdgD"
      },
      "execution_count": null,
      "outputs": []
    },
    {
      "cell_type": "code",
      "source": [
        "def pyfunc(r):\n",
        "  for x in range(r):\n",
        "      print(' '*(r-x-1)+'*'*(2*x+1))    \n",
        "pyfunc(9)\n",
        "\n",
        "# (9-0-1) (2*0 + 1) = (8,1)\n",
        "# (9-1-1) (2*1 + 1) = (7,3)\n",
        "# (9-2-1) (2*2 + 1) = (6,5)\n",
        "# (9-3-1) (2*3 + 1) = (5,7)\n",
        "# (9-4-1) (2*4 + 1) = (5,9)\n",
        "# (9-5-1) (2*5 + 1) = (3,11)\n",
        "# (9-6-1) (2*6 + 1) = (2,13)\n",
        "# (9-7-1) (2*7 + 1) = (1,15)\n",
        "# (9-8-1) (2*8 + 1) = (0,17)"
      ],
      "metadata": {
        "id": "Tb10updNWddQ"
      },
      "execution_count": null,
      "outputs": []
    },
    {
      "cell_type": "code",
      "source": [
        "l1 = [1,2,3,4,5,6,7]\n",
        "l1[2]"
      ],
      "metadata": {
        "colab": {
          "base_uri": "https://localhost:8080/"
        },
        "id": "0nVRcTNB09Bn",
        "outputId": "05919c94-37e0-4701-a684-3515c55efb80"
      },
      "execution_count": 1,
      "outputs": [
        {
          "output_type": "execute_result",
          "data": {
            "text/plain": [
              "3"
            ]
          },
          "metadata": {},
          "execution_count": 1
        }
      ]
    },
    {
      "cell_type": "code",
      "source": [
        "l1.insert(3,10)"
      ],
      "metadata": {
        "id": "VFrW46oE1Cqb"
      },
      "execution_count": 3,
      "outputs": []
    },
    {
      "cell_type": "code",
      "source": [
        "l1"
      ],
      "metadata": {
        "colab": {
          "base_uri": "https://localhost:8080/"
        },
        "id": "vHkklduS1Cmj",
        "outputId": "496b9540-2967-4372-c361-26db7b9c8294"
      },
      "execution_count": 4,
      "outputs": [
        {
          "output_type": "execute_result",
          "data": {
            "text/plain": [
              "[1, 2, 3, 10, 4, 5, 6, 7]"
            ]
          },
          "metadata": {},
          "execution_count": 4
        }
      ]
    },
    {
      "cell_type": "code",
      "source": [
        "l1.reverse()"
      ],
      "metadata": {
        "id": "Hdm9sKvA1Cjw"
      },
      "execution_count": 5,
      "outputs": []
    },
    {
      "cell_type": "code",
      "source": [
        "l1"
      ],
      "metadata": {
        "colab": {
          "base_uri": "https://localhost:8080/"
        },
        "id": "wH6nCD9m1Cgm",
        "outputId": "1632edff-96a6-472a-b470-b3e83cd9821f"
      },
      "execution_count": 6,
      "outputs": [
        {
          "output_type": "execute_result",
          "data": {
            "text/plain": [
              "[7, 6, 5, 4, 10, 3, 2, 1]"
            ]
          },
          "metadata": {},
          "execution_count": 6
        }
      ]
    },
    {
      "cell_type": "code",
      "source": [
        "l1.sort()"
      ],
      "metadata": {
        "id": "x3qfIOAB1Cde"
      },
      "execution_count": 11,
      "outputs": []
    },
    {
      "cell_type": "code",
      "source": [
        "l1"
      ],
      "metadata": {
        "colab": {
          "base_uri": "https://localhost:8080/"
        },
        "id": "yYDWXO9c09Eh",
        "outputId": "a74266af-482c-4859-ed6d-8b3f48ef60f1"
      },
      "execution_count": 12,
      "outputs": [
        {
          "output_type": "execute_result",
          "data": {
            "text/plain": [
              "[1, 2, 3, 4, 5, 6, 7, 10]"
            ]
          },
          "metadata": {},
          "execution_count": 12
        }
      ]
    },
    {
      "cell_type": "code",
      "source": [
        "l1.sort(reverse=True)"
      ],
      "metadata": {
        "id": "d3nJHiHS09Hd"
      },
      "execution_count": 13,
      "outputs": []
    },
    {
      "cell_type": "code",
      "source": [
        "l1"
      ],
      "metadata": {
        "colab": {
          "base_uri": "https://localhost:8080/"
        },
        "id": "-ZyBWRiD09Kc",
        "outputId": "f1141de3-f696-4bdb-eb8e-f180fdb56af3"
      },
      "execution_count": 14,
      "outputs": [
        {
          "output_type": "execute_result",
          "data": {
            "text/plain": [
              "[10, 7, 6, 5, 4, 3, 2, 1]"
            ]
          },
          "metadata": {},
          "execution_count": 14
        }
      ]
    },
    {
      "cell_type": "code",
      "source": [
        "d1 = {\n",
        "    \"one\":\"name\",\n",
        "    \"two\":\"place\",\n",
        "}\n",
        "d1"
      ],
      "metadata": {
        "colab": {
          "base_uri": "https://localhost:8080/"
        },
        "id": "sG9-q6il2KaZ",
        "outputId": "1d7ba408-1173-482a-8e25-d045df121d7b"
      },
      "execution_count": 16,
      "outputs": [
        {
          "output_type": "execute_result",
          "data": {
            "text/plain": [
              "{'one': 'name', 'two': 'place'}"
            ]
          },
          "metadata": {},
          "execution_count": 16
        }
      ]
    },
    {
      "cell_type": "code",
      "source": [
        "d1.update({\n",
        "    \"one\":\"animal\"\n",
        "})"
      ],
      "metadata": {
        "id": "lhAAWiTH2KXg"
      },
      "execution_count": 17,
      "outputs": []
    },
    {
      "cell_type": "code",
      "source": [
        "d1"
      ],
      "metadata": {
        "colab": {
          "base_uri": "https://localhost:8080/"
        },
        "id": "tOgFoVjM2KUs",
        "outputId": "782f29db-17dd-4483-f247-4cfb9fdd0024"
      },
      "execution_count": 18,
      "outputs": [
        {
          "output_type": "execute_result",
          "data": {
            "text/plain": [
              "{'one': 'animal', 'two': 'place'}"
            ]
          },
          "metadata": {},
          "execution_count": 18
        }
      ]
    },
    {
      "cell_type": "code",
      "source": [
        "d1.update({\n",
        "    \"three\":\"thing\"\n",
        "})"
      ],
      "metadata": {
        "id": "ejwX7X7S2KR1"
      },
      "execution_count": 21,
      "outputs": []
    },
    {
      "cell_type": "code",
      "source": [
        "d1"
      ],
      "metadata": {
        "colab": {
          "base_uri": "https://localhost:8080/"
        },
        "id": "VyjzNjHc2KOp",
        "outputId": "f71deb2f-954c-4517-d1e5-20bf44a1773a"
      },
      "execution_count": 22,
      "outputs": [
        {
          "output_type": "execute_result",
          "data": {
            "text/plain": [
              "{'one': 'animal', 'three': 'thing', 'two': 'place'}"
            ]
          },
          "metadata": {},
          "execution_count": 22
        }
      ]
    },
    {
      "cell_type": "code",
      "source": [
        "myset = set([\"a\", \"b\", \"c\"])\n",
        "print(myset)\n",
        "  \n",
        "# Adding element to the set\n",
        "myset.add(\"d\")\n",
        "print(myset)"
      ],
      "metadata": {
        "colab": {
          "base_uri": "https://localhost:8080/"
        },
        "id": "rjeTnKp52KL9",
        "outputId": "7075e2e6-8053-4ef6-eb01-9cb11dcac5ff"
      },
      "execution_count": 23,
      "outputs": [
        {
          "output_type": "stream",
          "name": "stdout",
          "text": [
            "{'b', 'a', 'c'}\n",
            "{'d', 'b', 'a', 'c'}\n"
          ]
        }
      ]
    },
    {
      "cell_type": "code",
      "source": [
        "# A Python program to demonstrate working of OrderedDict\n",
        "from collections import OrderedDict\n",
        "\n",
        "print(\"This is a Dict:\\n\")\n",
        "d = {}\n",
        "d['a'] = 1\n",
        "d['b'] = 2\n",
        "d['c'] = 3\n",
        "d['d'] = 4\n",
        "\n",
        "for key, value in d.items():\n",
        "\tprint(key, value)\n",
        "\n",
        "print(\"\\nThis is an Ordered Dict:\\n\")\n",
        "od = OrderedDict()\n",
        "od['a'] = 1\n",
        "od['b'] = 2\n",
        "od['c'] = 3\n",
        "od['d'] = 4\n",
        "\n",
        "for key, value in od.items():\n",
        "\tprint(key, value)\n"
      ],
      "metadata": {
        "colab": {
          "base_uri": "https://localhost:8080/"
        },
        "id": "aMveJoCN6uI-",
        "outputId": "a96fa760-ba1d-463c-a0f8-9b6c2509b030"
      },
      "execution_count": 30,
      "outputs": [
        {
          "output_type": "stream",
          "name": "stdout",
          "text": [
            "This is a Dict:\n",
            "\n",
            "a 1\n",
            "b 2\n",
            "c 3\n",
            "d 4\n",
            "\n",
            "This is an Ordered Dict:\n",
            "\n",
            "a 1\n",
            "b 2\n",
            "c 3\n",
            "d 4\n"
          ]
        }
      ]
    },
    {
      "cell_type": "markdown",
      "source": [
        "**Union**\n",
        "\n",
        "Two sets can be merged using union() function or | operator. Both Hash Table values are accessed and traversed with merge operation perform on them to combine the elements, at the same time duplicates are removed. Time Complexity of this is O(len(s1) + len(s2)) where s1 and s2 are two sets whose union needs to be done"
      ],
      "metadata": {
        "id": "k-RJ14ml4g8M"
      }
    },
    {
      "cell_type": "code",
      "source": [
        "\n",
        "# Python Program to \n",
        "# demonstrate union of\n",
        "# two sets\n",
        "  \n",
        "people = {\"Jay\", \"Idrish\", \"Archil\"}\n",
        "vampires = {\"Karan\", \"Arjun\"}\n",
        "dracula = {\"Deepanshu\", \"Raju\"}\n",
        "  \n",
        "# Union using union()\n",
        "# function\n",
        "population = people.union(vampires)\n",
        "  \n",
        "print(\"Union using union() function\")\n",
        "print(population)\n",
        "  \n",
        "# Union using \"|\"\n",
        "# operator\n",
        "population = people|dracula\n",
        "  \n",
        "print(\"\\nUnion using '|' operator\")\n",
        "print(population)\n",
        "\n",
        "list(population)"
      ],
      "metadata": {
        "colab": {
          "base_uri": "https://localhost:8080/"
        },
        "id": "vs9F9ZyX2KJV",
        "outputId": "f478e50c-2679-467b-9902-67c8f401be33"
      },
      "execution_count": 27,
      "outputs": [
        {
          "output_type": "stream",
          "name": "stdout",
          "text": [
            "Union using union() function\n",
            "{'Archil', 'Idrish', 'Jay', 'Karan', 'Arjun'}\n",
            "\n",
            "Union using '|' operator\n",
            "{'Raju', 'Archil', 'Deepanshu', 'Idrish', 'Jay'}\n"
          ]
        },
        {
          "output_type": "execute_result",
          "data": {
            "text/plain": [
              "['Raju', 'Archil', 'Deepanshu', 'Idrish', 'Jay']"
            ]
          },
          "metadata": {},
          "execution_count": 27
        }
      ]
    },
    {
      "cell_type": "markdown",
      "source": [
        "**Intersection**\n",
        "\n",
        "This can be done through intersection() or & operator. Common Elements are selected. They are similar to iteration over the Hash lists and combining the same values on both the Table. Time Complexity of this is O(min(len(s1), len(s2)) where s1 and s2 are two sets whose union needs to be done."
      ],
      "metadata": {
        "id": "3oMRK55j49-2"
      }
    },
    {
      "cell_type": "code",
      "source": [
        "# Python program to\n",
        "# demonstrate intersection\n",
        "# of two sets\n",
        "\n",
        "set1 = set()\n",
        "set2 = set()\n",
        "\n",
        "for i in range(5):\n",
        "\tset1.add(i)\n",
        "\n",
        "for i in range(3,9):\n",
        "\tset2.add(i)\n",
        "\n",
        "# Intersection using\n",
        "# intersection() function\n",
        "set3 = set1.intersection(set2)\n",
        "\n",
        "print(\"Intersection using intersection() function\")\n",
        "print(set3)\n",
        "\n",
        "# Intersection using\n",
        "# \"&\" operator\n",
        "set3 = set1 & set2\n",
        "\n",
        "print(\"\\nIntersection using '&' operator\")\n",
        "print(set3)\n"
      ],
      "metadata": {
        "colab": {
          "base_uri": "https://localhost:8080/"
        },
        "id": "uB8lJYQV2KGR",
        "outputId": "b362aef2-8756-4a13-bcdd-1e4063844782"
      },
      "execution_count": 28,
      "outputs": [
        {
          "output_type": "stream",
          "name": "stdout",
          "text": [
            "Intersection using intersection() function\n",
            "{3, 4}\n",
            "\n",
            "Intersection using '&' operator\n",
            "{3, 4}\n"
          ]
        }
      ]
    },
    {
      "cell_type": "markdown",
      "source": [
        "**Difference**\n",
        "\n",
        "To find difference in between sets. Similar to find difference in linked list. This is done through difference() or – operator. Time complexity of finding difference s1 – s2 is O(len(s1))"
      ],
      "metadata": {
        "id": "-dc4zIFU5Juw"
      }
    },
    {
      "cell_type": "code",
      "source": [
        "# Python program to\n",
        "# demonstrate difference\n",
        "# of two sets\n",
        "\n",
        "set1 = set()\n",
        "set2 = set()\n",
        "\n",
        "for i in range(5):\n",
        "\tset1.add(i)\n",
        "\n",
        "for i in range(3,9):\n",
        "\tset2.add(i)\n",
        "\n",
        "# Difference of two sets\n",
        "# using difference() function\n",
        "set3 = set1.difference(set2)\n",
        "\n",
        "print(\" Difference of two sets using difference() function\")\n",
        "print(set3)\n",
        "\n",
        "# Difference of two sets\n",
        "# using '-' operator\n",
        "set3 = set1 - set2\n",
        "\n",
        "print(\"\\nDifference of two sets using '-' operator\")\n",
        "print(set3)\n"
      ],
      "metadata": {
        "colab": {
          "base_uri": "https://localhost:8080/"
        },
        "id": "zFYeimxX44ot",
        "outputId": "35629534-ec12-4a5d-918b-56ea52dc5d9e"
      },
      "execution_count": 29,
      "outputs": [
        {
          "output_type": "stream",
          "name": "stdout",
          "text": [
            " Difference of two sets using difference() function\n",
            "{0, 1, 2}\n",
            "\n",
            "Difference of two sets using '-' operator\n",
            "{0, 1, 2}\n"
          ]
        }
      ]
    },
    {
      "cell_type": "code",
      "source": [
        "# Arrays\n",
        "ord = 2\n",
        "arr = [1,23,31,45,87,91]\n",
        "exp_arr = [31,45,87,91, 1,23]"
      ],
      "metadata": {
        "id": "dBa1ztf55svM"
      },
      "execution_count": null,
      "outputs": []
    },
    {
      "cell_type": "code",
      "source": [
        "# Iterative python program to reverse an array\n",
        "\n",
        "# Function to reverse A[] from start to end\n",
        "def reverseList(A, start, end):\n",
        "\twhile start < end:\n",
        "\t\tA[start], A[end] = A[end], A[start]\n",
        "\t\tstart += 1\n",
        "\t\tend -= 1\n",
        "\n",
        "# Driver function to test above function\n",
        "A = [1, 2, 3, 4, 5, 6]\n",
        "print(A)\n",
        "reverseList(A, 0, 5)\n",
        "print(\"Reversed list is\")\n",
        "print(A)\n",
        "# This program is contributed by Pratik Chhajer\n"
      ],
      "metadata": {
        "colab": {
          "base_uri": "https://localhost:8080/"
        },
        "id": "4QUrDzHA5qs6",
        "outputId": "bd8dfab3-3c91-4511-aef0-7f4c3ee9dcef"
      },
      "execution_count": 28,
      "outputs": [
        {
          "output_type": "stream",
          "name": "stdout",
          "text": [
            "[1, 2, 3, 4, 5, 6]\n",
            "Reversed list is\n",
            "[6, 5, 4, 3, 2, 1]\n"
          ]
        }
      ]
    },
    {
      "cell_type": "markdown",
      "source": [
        "## Python Data Structures"
      ],
      "metadata": {
        "id": "7uYdioL663pp"
      }
    },
    {
      "cell_type": "code",
      "source": [
        ""
      ],
      "metadata": {
        "id": "aSAoziV06865"
      },
      "execution_count": null,
      "outputs": []
    },
    {
      "cell_type": "markdown",
      "source": [
        "## Classes"
      ],
      "metadata": {
        "id": "cX4panRtWX9a"
      }
    },
    {
      "cell_type": "markdown",
      "source": [
        "**Intro**\n",
        "\n",
        "To create a new student we create a new instances of the class…so we can have any number of instances. Think of a class as a blueprint for our bldg block and instances of the class are actual building blocks of the class. So they follow the same rules, and they have diff student names, id’s and all the other diff\n",
        "info. They do not depend on each other.\n",
        "\n",
        "**SELF** keyword in the function and it’s the first argument in the function and refers to the instance of the class, using the self we refer to our class from our class. So if ur calling the function inside a class then we use something such as “self.add_student”.\n",
        "\n",
        "**CONSTRUCTOR**. In other words we want the name and student_id to created as soon as we create the instance of the class. _ _ init _ _ replace with this in name in the place of add_student. So this is kinda custom constructor. So\n",
        "when we are constructing a new instance of the class, must pass the name param and student_id param.\n",
        "\n",
        "**_ _str _ _** method is called whenever we call the instance of the class.\n",
        "So the self.name = name && self.student_id = student_id, we refer them to an entire instance, those two var will be available throughout the instance, including any methods we have. So that’s why we can use self.name.capitalize() in the capitalise function. It is easily accessible.\n",
        "\n",
        "So above self.name = name, was the instance_attributes. All instances are diff, so if u create 2 instances they have diff name, age and other details which are diff from one instance to the other, so What if we want few class attributes to be same along all the classes. Like students going to same school, so here we can use “class_attributes”. Similar to instance attr but they are not defined in functions or methods & are not tied to self or the instance. They are static. They do not change with the instance. So to define them put them anywhere outside the methods and inside the class. But to refer to the static attr or class attr, we need to call them using self.school_name.\n",
        "\n",
        "print(Student.school_name) === here if u run , u will get the name of the school\n",
        "\n",
        "We can tie 2 classes together, for eg if we want to add high school student, where he also requires the name and the student_id & we want all the methods that we want for the regular student, so one way is to copy paste the the whole class methods of regular student into high school student or other way is to\n",
        "inherit the student class and derive a new class out of it called high school class. We can overide the student class while we call it in the high_school class and can also add new methods to it. So it has all the access to methods from the parent class.\n",
        "\n",
        "**_ _name_ _** specifically named variable allowing us to detect whether a module is run as a script or imported into another module."
      ],
      "metadata": {
        "id": "lkVc8aUJaYft"
      }
    },
    {
      "cell_type": "markdown",
      "source": [
        "**Inheritance**\n",
        "\n",
        "Inheritance is a mechanism which allows us to create a new class - known as child class - that is based upon an existing class - the parent class, by adding new attributes and methods on top of the existing class. When you do so, the child class inherits attributes and methods of the parent class.\n",
        "\n",
        "Inheritance really shines when you want to create classes that are very similar. All you need to do is to write the code the for the things that they have common in one class - the parent class. And then write code for things that are very specific in a different class - the child class. This saves you from duplicating a lot of code.\n",
        "\n",
        "Let's take a more concrete example to illustrate this concept.\n",
        "\n",
        "Suppose we are creating a program which deals with various shapes. Each shape has some common properties. For example, color of the shape, whether it is filled or not and so on. In addition to that, there are some properties which vary from shape to shape. For example, area and perimeter. The area of rectangle is width * length whereas the area of circle is πr² . At first, it might be tempting to create classes for different shapes like this:"
      ],
      "metadata": {
        "id": "kRHZhCUnWiqS"
      }
    },
    {
      "cell_type": "markdown",
      "source": [
        "**Polymorphism**\n",
        "\n",
        "In literal sense, Polymorphism means the ability to take various forms. In Python, Polymorphism allows us to define methods in the child class with the same name as defined in their parent class.\n",
        "\n",
        "As we know, a child class inherits all the methods from the parent class. However, you will encounter situations where the method inherited from the parent class doesn't quite fit into the child class. In such cases, you will have to re-implement method in the child class. This process is known as Method Overriding."
      ],
      "metadata": {
        "id": "UVW4qfuQYA8q"
      }
    },
    {
      "cell_type": "code",
      "source": [
        "import numpy as np\n",
        "import pandas as pd\n",
        "\n",
        "class School():\n",
        "\n",
        "  def add_student(self, fname, lname):\n",
        "    return fname + \" \" + lname\n",
        "\n",
        "sch = School()\n",
        "print(sch.add_student(fname=\"MS\", lname=\"Dhoni\"))\n",
        "\n"
      ],
      "metadata": {
        "colab": {
          "base_uri": "https://localhost:8080/"
        },
        "id": "CsYWp4Hy0DnC",
        "outputId": "8bdb15c2-5fe2-40cd-b451-e2d1719ae1cb"
      },
      "execution_count": 8,
      "outputs": [
        {
          "output_type": "stream",
          "name": "stdout",
          "text": [
            "MS Dhoni\n"
          ]
        }
      ]
    },
    {
      "cell_type": "code",
      "source": [
        "# A Sample class with init method\n",
        "class Person:\n",
        "   \n",
        "    # init method or constructor \n",
        "    def __init__(self, name):\n",
        "        self.name = name\n",
        "   \n",
        "    # Sample Method \n",
        "    def say_hi(self):\n",
        "        print('Hello, my name is', self.name)\n",
        "   \n",
        "p = Person('Nikhil')\n",
        "p.say_hi()"
      ],
      "metadata": {
        "colab": {
          "base_uri": "https://localhost:8080/"
        },
        "id": "8AeLQVY40DkG",
        "outputId": "f0baa1dc-8fec-445d-f47a-a67a1233fc39"
      },
      "execution_count": 9,
      "outputs": [
        {
          "output_type": "stream",
          "name": "stdout",
          "text": [
            "Hello, my name is Nikhil\n"
          ]
        }
      ]
    },
    {
      "cell_type": "code",
      "source": [
        "# self.name & self.student_id is gng to be available throughout the instance \n",
        "# including any methods we have\n",
        "\n",
        "#using __str__ method\n",
        "# students=[]\n",
        "class Student():\n",
        "  def __init__(self, name, student_id=332):\n",
        "    #student = {\"name\": name, \"student_id\": student_id}\n",
        "    self.name = name\n",
        "    self.student_id = student_id\n",
        "    # students.append(student)\n",
        "\n",
        "  def __str__(self):\n",
        "    return \"Student is \" + self.name\n",
        "\n",
        "  def capitalize(self):\n",
        "    return self.name.capitalize()\n",
        "\n",
        "student = Student(\"steve\") # need to pass the arguments while initializing the class\n",
        "print(student.capitalize())\n",
        "print(student)\n"
      ],
      "metadata": {
        "colab": {
          "base_uri": "https://localhost:8080/"
        },
        "id": "vDemwnmF0Dgl",
        "outputId": "38189b3c-61f5-46ce-d51e-1739e834f406"
      },
      "execution_count": 10,
      "outputs": [
        {
          "output_type": "stream",
          "name": "stdout",
          "text": [
            "Steve\n",
            "Student is steve\n"
          ]
        }
      ]
    },
    {
      "cell_type": "code",
      "source": [
        "# Inheritance\n",
        "\n",
        "class Student():\n",
        "\n",
        "  school_name = \"Vidyaniketan Public School\"\n",
        "\n",
        "  def __init__(self, name, student_id):\n",
        "    self.name = name\n",
        "    self.student_id = student_id\n",
        "  \n",
        "  def __str__(self):\n",
        "    return \"Student name is \" + self.name + \" & his student id is \" + str(self.student_id)\n",
        "\n",
        "  def capitalize(self):\n",
        "    return self.name.capitalize()\n",
        "\n",
        "\n",
        "class HighSchoolStudent(Student):\n",
        "  school_name = \"Kendriya Vidalaya\"\n",
        "\n",
        "std = Student(name=\"rahul\", student_id=1122)\n",
        "print(std)\n",
        "print(std.capitalize())\n",
        "\n",
        "high_std = HighSchoolStudent(name=\"rahul\", student_id=1122)\n",
        "print(high_std)\n",
        "print(high_std.school_name)\n",
        "\n",
        "#high_std"
      ],
      "metadata": {
        "colab": {
          "base_uri": "https://localhost:8080/"
        },
        "id": "dp5VnwnY0Ddn",
        "outputId": "ab48d992-3be6-4953-a842-887993cac623"
      },
      "execution_count": 11,
      "outputs": [
        {
          "output_type": "stream",
          "name": "stdout",
          "text": [
            "Student name is rahul & his student id is 1122\n",
            "Rahul\n",
            "Student name is rahul & his student id is 1122\n",
            "Kendriya Vidalaya\n"
          ]
        }
      ]
    },
    {
      "cell_type": "code",
      "source": [
        "# Override\n",
        "\n",
        "student = []\n",
        "\n",
        "class Student():\n",
        "\n",
        "  school_name = \"Vidyaniketan Public School\"\n",
        "\n",
        "  def __init__(self, name, student_id):\n",
        "    self.name = name\n",
        "    self.student_id = student_id\n",
        "  \n",
        "  def __str__(self):\n",
        "    return \"Student name is \" + self.name + \" & his student id is \" + str(self.student_id)\n",
        "\n",
        "  def capitalize(self):\n",
        "    return self.name.capitalize()\n",
        "\n",
        "\n",
        "class HighSchoolStudent(Student):\n",
        "  school_name = \"Kendriya Vidalaya\"\n",
        "\n",
        "  def capitalize(self):\n",
        "    original_val = super().capitalize()\n",
        "    return original_val + \"_HS\"\n",
        "\n",
        "std = Student(name=\"rahul\", student_id=1122)\n",
        "print(std.capitalize())\n",
        "\n",
        "high_std = HighSchoolStudent(name=\"ramesh\", student_id=1122)\n",
        "print(high_std.school_name)\n",
        "\n",
        "\n",
        "print(high_std.capitalize())\n"
      ],
      "metadata": {
        "colab": {
          "base_uri": "https://localhost:8080/"
        },
        "id": "XMh7-Sti0DaP",
        "outputId": "73fdeb30-a02e-4f57-d840-57abd1cf27f3"
      },
      "execution_count": 12,
      "outputs": [
        {
          "output_type": "stream",
          "name": "stdout",
          "text": [
            "Rahul\n",
            "Kendriya Vidalaya\n",
            "Ramesh_HS\n"
          ]
        }
      ]
    },
    {
      "cell_type": "code",
      "source": [
        "# @@@@@@@@@@@@@@@@@@@@@@@@@@@@@@@@@@@@@@@@@@@@@@@\n",
        "# python101/Chapter-16/multiple_inheritance.py\n",
        "\n",
        "class A:\n",
        "    def explore(self):\n",
        "        print(\"explore() method called\")\n",
        "\n",
        "class B:\n",
        "    def search(self):\n",
        "        print(\"search() method called\")\n",
        "\n",
        "class C:\n",
        "    def discover(self):\n",
        "        print(\"discover() method called\")\n",
        "\n",
        "class D(A, B, C):\n",
        "    def test(self):\n",
        "        print(\"test() method called\")\n",
        "\n",
        "\n",
        "d_obj = D()\n",
        "# d_obj.explore()\n",
        "# d_obj.search()\n",
        "# d_obj.discover()\n",
        "d_obj.test()"
      ],
      "metadata": {
        "colab": {
          "base_uri": "https://localhost:8080/"
        },
        "id": "JjV3QCbc0DXb",
        "outputId": "089af091-337f-447e-8882-99d68d897db8"
      },
      "execution_count": 13,
      "outputs": [
        {
          "output_type": "stream",
          "name": "stdout",
          "text": [
            "test() method called\n"
          ]
        }
      ]
    },
    {
      "cell_type": "code",
      "source": [
        "class A:\n",
        "    def explore(self):\n",
        "        print(\"explore() method from class A\")\n",
        "\n",
        "class B(A):\n",
        "    def explore(self):\n",
        "        print(\"explore() method from class B\")\n",
        "\n",
        "\n",
        "b_obj = B()\n",
        "a_obj = A()\n",
        "\n",
        "b_obj.explore()\n",
        "a_obj.explore()"
      ],
      "metadata": {
        "colab": {
          "base_uri": "https://localhost:8080/"
        },
        "id": "71KfV8YBW7o2",
        "outputId": "7ecd3922-fa74-41b3-8f2d-a4a6c3e4cd88"
      },
      "execution_count": null,
      "outputs": [
        {
          "output_type": "stream",
          "name": "stdout",
          "text": [
            "explore() method from class B\n",
            "explore() method from class A\n"
          ]
        }
      ]
    },
    {
      "cell_type": "code",
      "source": [
        "class A:\n",
        "    def explore(self):\n",
        "        print(\"explore() method from class A\")\n",
        "\n",
        "class B(A):\n",
        "    def explore(self):\n",
        "        super().explore()  # calling the parent class explore() method\n",
        "        print(\"explore() method from class B\")\n",
        "\n",
        "\n",
        "b_obj = B()\n",
        "b_obj.explore()"
      ],
      "metadata": {
        "colab": {
          "base_uri": "https://localhost:8080/"
        },
        "id": "cUw5NKMdYWMl",
        "outputId": "95b7a299-8ac8-42eb-feef-1bf094345e9b"
      },
      "execution_count": null,
      "outputs": [
        {
          "output_type": "stream",
          "name": "stdout",
          "text": [
            "explore() method from class A\n",
            "explore() method from class B\n"
          ]
        }
      ]
    },
    {
      "cell_type": "code",
      "source": [
        "# Python supports object-oriented programming and provides almost all \n",
        "# OOP features to use in programs.\n",
        "\n",
        "# A Python class is a blueprint for creating the objects. It defines member \n",
        "# variables and gets their behavior associated with them.\n",
        "\n",
        "# We can make it by using the keyword “class.” An object gets created from \n",
        "# the constructor. This object represents the instance of the class.\n",
        "\n",
        "# In Python, we generate classes and instances in the following way.\n",
        "\n",
        "class Human:  # Create the class\n",
        "  pass\n",
        "man = Human()  # Create the instance\n",
        "print(man)\n"
      ],
      "metadata": {
        "id": "xrcWsJ5tYbkt",
        "colab": {
          "base_uri": "https://localhost:8080/"
        },
        "outputId": "393e66fe-2dc9-4324-9252-f44328160abb"
      },
      "execution_count": 14,
      "outputs": [
        {
          "output_type": "stream",
          "name": "stdout",
          "text": [
            "<__main__.Human object at 0x7f7975a00ad0>\n"
          ]
        }
      ]
    },
    {
      "cell_type": "code",
      "source": [
        "# What are Class or Static Variables in Python programming?\n",
        "# In Python, all the objects share common class or static variables.\n",
        "\n",
        "# But the instance or non-static variables are altogether different for \n",
        "# different objects.\n",
        "\n",
        "# The programming languages like C++ and Java need to use the static keyword\n",
        "#  to make a variable as the class variable. However, Python has a unique way \n",
        "#  to declare a static variable.\n",
        "\n",
        "# All names initialized with a value in the class declaration becomes the class\n",
        "# variables. And those which get assigned values in the class methods becomes \n",
        "# the instance variables.\n",
        "\n",
        "class Test: \n",
        "    aclass = 'programming' # A class variable \n",
        "    def __init__(self, ainst): \n",
        "        self.ainst = ainst # An instance variable \n",
        "  \n",
        "# Objects of CSStudent class \n",
        "test1 = Test(1) \n",
        "test2 = Test(2) \n",
        "  \n",
        "print(test1.aclass)\n",
        "print(test2.aclass)\n",
        "print(test1.ainst)\n",
        "print(test2.ainst)\n",
        "\n",
        "# A class variable is also accessible using the class name\n",
        "print(Test.aclass)\n"
      ],
      "metadata": {
        "colab": {
          "base_uri": "https://localhost:8080/"
        },
        "id": "bsGY859R0tiM",
        "outputId": "f0cf7004-11f4-495d-bf12-81e80476e4df"
      },
      "execution_count": 15,
      "outputs": [
        {
          "output_type": "stream",
          "name": "stdout",
          "text": [
            "programming\n",
            "programming\n",
            "1\n",
            "2\n",
            "programming\n"
          ]
        }
      ]
    },
    {
      "cell_type": "code",
      "source": [
        "# Inheritance is an OOP mechanism which allows an object to access its parent \n",
        "# class features. It carries forward the base class functionality to the child.\n",
        "\n",
        "class PC: # Base class\n",
        "    processor = \"Xeon\" # Common attribute # Class variable\n",
        "    def set_processor(self, new_processor):\n",
        "        processor = new_processor\n",
        "\n",
        "class Desktop(PC): # Derived class\n",
        "    os = \"Mac OS High Sierra\" # Personalized attribute\n",
        "    ram = \"32 GB\"\n",
        "\n",
        "class Laptop(PC): # Derived class\n",
        "    os = \"Windows 10 Pro 64\" # Personalized attribute\n",
        "    ram = \"16 GB\"\n",
        "\n",
        "desk = Desktop()\n",
        "print(desk.processor, desk.os, desk.ram)\n",
        "\n",
        "lap = Laptop()\n",
        "print(lap.processor, lap.os, lap.ram)"
      ],
      "metadata": {
        "colab": {
          "base_uri": "https://localhost:8080/"
        },
        "id": "6SXnXiOy0tfN",
        "outputId": "32ba3d5e-3960-4ffb-9879-d92336dba407"
      },
      "execution_count": 16,
      "outputs": [
        {
          "output_type": "stream",
          "name": "stdout",
          "text": [
            "Xeon Mac OS High Sierra 32 GB\n",
            "Xeon Windows 10 Pro 64 16 GB\n"
          ]
        }
      ]
    },
    {
      "cell_type": "code",
      "source": [
        "# How to assign values for the Class attributes at runtime?\n",
        "# We can specify the values for the attributes at runtime. We need to \n",
        "# add an init method and pass input to object constructor. See the \n",
        "# following example demonstrating this.\n",
        "\n",
        "class Human:\n",
        "  def __init__(self, profession):\n",
        "      self.profession = profession\n",
        "  def set_profession(self, new_profession):\n",
        "      self.profession = new_profession\n",
        "\n",
        "man = Human(\"Manager\")\n",
        "print(man.profession)\n"
      ],
      "metadata": {
        "colab": {
          "base_uri": "https://localhost:8080/"
        },
        "id": "z0vLBHfc0tca",
        "outputId": "3a50aea2-5426-4543-edfa-13f1b5fc7767"
      },
      "execution_count": 17,
      "outputs": [
        {
          "output_type": "stream",
          "name": "stdout",
          "text": [
            "Manager\n"
          ]
        }
      ]
    },
    {
      "cell_type": "code",
      "source": [
        "# After we added the attributes, we can go on to define the functions. Generally,\n",
        "# we call them methods. In the method signature, we always have to provide \n",
        "# the first argument with a self-keyword.\n",
        "\n",
        "class Human:\n",
        "  profession = \"programmer\"\n",
        "  def set_profession(self, new_profession):\n",
        "    self.profession = new_profession      \n",
        "man = Human()\n",
        "man.set_profession(\"Manager\")\n",
        "print(man.profession)\n"
      ],
      "metadata": {
        "colab": {
          "base_uri": "https://localhost:8080/"
        },
        "id": "FZHIW2dL0tZr",
        "outputId": "ac628e82-b80e-49df-f673-f4609e0b4827"
      },
      "execution_count": 18,
      "outputs": [
        {
          "output_type": "stream",
          "name": "stdout",
          "text": [
            "Manager\n"
          ]
        }
      ]
    },
    {
      "cell_type": "code",
      "source": [
        "# A class is useless if it has not defined any functionality. We can do so by \n",
        "# adding attributes. They work as containers for data and functions. We can add \n",
        "# an attribute directly specifying inside the class body.\n",
        "\n",
        "class Human:\n",
        "  profession = \"programmer\" # specify the attribute 'profession' of the class\n",
        "man = Human()\n",
        "print(man.profession)\n",
        "\n"
      ],
      "metadata": {
        "colab": {
          "base_uri": "https://localhost:8080/"
        },
        "id": "gpVWi5ON0tW8",
        "outputId": "ed4f8639-42f3-440c-9751-e30411207798"
      },
      "execution_count": 19,
      "outputs": [
        {
          "output_type": "stream",
          "name": "stdout",
          "text": [
            "programmer\n"
          ]
        }
      ]
    },
    {
      "cell_type": "code",
      "source": [
        "# python101/Chapter-16/inheritance.py\n",
        "\n",
        "import math\n",
        "\n",
        "class Shape:\n",
        "\n",
        "    def __init__(self, color='black', filled=False):\n",
        "        self.__color = color\n",
        "        self.__filled = filled\n",
        "\n",
        "    def get_color(self):\n",
        "        return self.__color\n",
        "\n",
        "    def set_color(self, color):\n",
        "        self.__color = color\n",
        "\n",
        "    def get_filled(self):\n",
        "        return self.__filled\n",
        "\n",
        "    def set_filled(self, filled):\n",
        "        self.__filled = filled\n",
        "\n",
        "\n",
        "class Rectangle(Shape):\n",
        "\n",
        "    def __init__(self, length, breadth):\n",
        "        super().__init__()\n",
        "        self.__length = length\n",
        "        self.__breadth = breadth\n",
        "\n",
        "    def get_length(self):\n",
        "        return self.__length\n",
        "\n",
        "    def set_length(self, length):\n",
        "        self.__length = length\n",
        "\n",
        "    def get_breadth(self):\n",
        "        return self.__breadth\n",
        "\n",
        "    def set_breadth(self, breadth):\n",
        "        self.__breadth = breadth\n",
        "\n",
        "    def get_area(self):\n",
        "        return self.__length * self.__breadth\n",
        "\n",
        "    def get_perimeter(self):\n",
        "        return 2 * (self.__length + self.__breadth)\n",
        "\n",
        "\n",
        "class Circle(Shape):\n",
        "    def __init__(self, radius):\n",
        "        super().__init__()\n",
        "        self.__radius = radius\n",
        "\n",
        "    def get_radius(self):\n",
        "        return self.__radius\n",
        "\n",
        "    def set_radius(self, radius):\n",
        "        self.__radius = radius\n",
        "\n",
        "    def get_area(self):\n",
        "        return math.pi * self.__radius ** 2\n",
        "\n",
        "    def get_perimeter(self):\n",
        "        return 2 * math.pi * self.__radius\n",
        "\n",
        "\n",
        "r1 = Rectangle(10.5, 2.5)\n",
        "\n",
        "print(\"Area of rectangle r1:\", r1.get_area())\n",
        "print(\"Perimeter of rectangle r1:\", r1.get_perimeter())\n",
        "print(\"Color of rectangle r1:\", r1.get_color())\n",
        "print(\"Is rectangle r1 filled ? \", r1.get_filled())\n",
        "r1.set_filled(True)\n",
        "print(\"Is rectangle r1 filled ? \", r1.get_filled())\n",
        "r1.set_color(\"orange\")\n",
        "print(\"Color of rectangle r1:\", r1.get_color())\n",
        "\n",
        "c1 = Circle(12)\n",
        "\n",
        "print(\"\\nArea of circle c1:\", format(c1.get_area(), \"0.2f\"))\n",
        "print(\"Perimeter of circle c1:\", format(c1.get_perimeter(), \"0.2f\"))\n",
        "print(\"Color of circle c1:\", c1.get_color())\n",
        "print(\"Is circle c1 filled ? \", c1.get_filled())\n",
        "c1.set_filled(True)\n",
        "print(\"Is circle c1 filled ? \", c1.get_filled())\n",
        "c1.set_color(\"blue\")\n",
        "print(\"Color of circle c1:\", c1.get_color())"
      ],
      "metadata": {
        "colab": {
          "base_uri": "https://localhost:8080/"
        },
        "id": "CPuQPl4d0tUT",
        "outputId": "c3919569-65f4-4098-80c2-29614d062804"
      },
      "execution_count": 20,
      "outputs": [
        {
          "output_type": "stream",
          "name": "stdout",
          "text": [
            "Area of rectangle r1: 26.25\n",
            "Perimeter of rectangle r1: 26.0\n",
            "Color of rectangle r1: black\n",
            "Is rectangle r1 filled ?  False\n",
            "Is rectangle r1 filled ?  True\n",
            "Color of rectangle r1: orange\n",
            "\n",
            "Area of circle c1: 452.39\n",
            "Perimeter of circle c1: 75.40\n",
            "Color of circle c1: black\n",
            "Is circle c1 filled ?  False\n",
            "Is circle c1 filled ?  True\n",
            "Color of circle c1: blue\n"
          ]
        }
      ]
    },
    {
      "cell_type": "code",
      "source": [
        "# @@@@@@@@@@@@@@@@@@@@@@@@@@@@@@@@@@@@@@@@@@@@@@@\n",
        "# python101/Chapter-16/multiple_inheritance.py\n",
        "\n",
        "class A:\n",
        "    def explore(self):\n",
        "        print(\"explore() method called\")\n",
        "\n",
        "class B:\n",
        "    def search(self):\n",
        "        print(\"search() method called\")\n",
        "\n",
        "class C:\n",
        "    def discover(self):\n",
        "        print(\"discover() method called\")\n",
        "\n",
        "class D(A, B, C):\n",
        "    def test(self):\n",
        "        print(\"test() method called\")\n",
        "\n",
        "\n",
        "d_obj = D()\n",
        "d_obj.explore()\n",
        "d_obj.search()\n",
        "d_obj.discover()\n",
        "d_obj.test()"
      ],
      "metadata": {
        "colab": {
          "base_uri": "https://localhost:8080/"
        },
        "id": "xQz0j_OS0tRf",
        "outputId": "4393ef2c-02cd-4464-be48-3538260ee32c"
      },
      "execution_count": 21,
      "outputs": [
        {
          "output_type": "stream",
          "name": "stdout",
          "text": [
            "explore() method called\n",
            "search() method called\n",
            "discover() method called\n",
            "test() method called\n"
          ]
        }
      ]
    },
    {
      "cell_type": "markdown",
      "source": [
        "## DateTime"
      ],
      "metadata": {
        "id": "7PukApQj2soO"
      }
    },
    {
      "cell_type": "code",
      "source": [
        "from datetime import date\n",
        " \n",
        "# calling the today\n",
        "# function of date class\n",
        "today = date.today()\n",
        " \n",
        "print(\"Today's date is\", today)"
      ],
      "metadata": {
        "colab": {
          "base_uri": "https://localhost:8080/"
        },
        "id": "rcNQFGph0tO1",
        "outputId": "17ad41ae-3267-4d30-8095-aa0d00457d99"
      },
      "execution_count": 22,
      "outputs": [
        {
          "output_type": "stream",
          "name": "stdout",
          "text": [
            "Today's date is 2022-02-13\n"
          ]
        }
      ]
    },
    {
      "cell_type": "code",
      "source": [
        "from datetime import datetime\n",
        "\n",
        "# Getting Datetime from timestamp\n",
        "date_time = datetime.fromtimestamp(1887639468)\n",
        "print(\"Datetime from timestamp:\", date_time)\n"
      ],
      "metadata": {
        "colab": {
          "base_uri": "https://localhost:8080/"
        },
        "id": "uviYUeSj2v8F",
        "outputId": "5f9766a7-19a0-438f-a5b7-e63f3959c012"
      },
      "execution_count": 23,
      "outputs": [
        {
          "output_type": "stream",
          "name": "stdout",
          "text": [
            "Datetime from timestamp: 2029-10-25 16:17:48\n"
          ]
        }
      ]
    },
    {
      "cell_type": "code",
      "source": [
        "from datetime import date\n",
        "\n",
        "# calling the today\n",
        "# function of date class\n",
        "today = date.today()\n",
        "\n",
        "# Converting the date to the string\n",
        "Str = date.isoformat(today)\n",
        "print(\"String Representation\", Str)\n",
        "print(type(Str))\n"
      ],
      "metadata": {
        "colab": {
          "base_uri": "https://localhost:8080/"
        },
        "id": "7TQit3Vr2v4q",
        "outputId": "b3a7b94b-4db6-4254-b258-4687d25a2d15"
      },
      "execution_count": 24,
      "outputs": [
        {
          "output_type": "stream",
          "name": "stdout",
          "text": [
            "String Representation 2022-02-13\n",
            "<class 'str'>\n"
          ]
        }
      ]
    },
    {
      "cell_type": "code",
      "source": [
        "from datetime import datetime\n",
        "\n",
        "datetime_object = datetime.strptime('Jun 1 2005  1:33PM', '%Y %M')"
      ],
      "metadata": {
        "id": "PwxooGba2v1S"
      },
      "execution_count": null,
      "outputs": []
    },
    {
      "cell_type": "code",
      "source": [
        "\n",
        "from datetime import datetime\n",
        "\n",
        "now = datetime.now() # current date and time\n",
        "\n",
        "year = now.strftime(\"%Y\")\n",
        "print(\"year:\", year)\n",
        "\n",
        "month = now.strftime(\"%m\")\n",
        "print(\"month:\", month)\n",
        "\n",
        "day = now.strftime(\"%d\")\n",
        "print(\"day:\", day)\n",
        "\n",
        "time = now.strftime(\"%H:%M:%S\")\n",
        "print(\"time:\", time)\n",
        "\n",
        "date_time = now.strftime(\"%m/%d/%Y, %H:%M:%S\")\n",
        "print(\"date and time:\",date_time)"
      ],
      "metadata": {
        "colab": {
          "base_uri": "https://localhost:8080/"
        },
        "id": "xfgFBUsf2vxp",
        "outputId": "41820ac8-fa4b-4150-b7c7-e33eca034ba9"
      },
      "execution_count": 25,
      "outputs": [
        {
          "output_type": "stream",
          "name": "stdout",
          "text": [
            "year: 2022\n",
            "month: 02\n",
            "day: 13\n",
            "time: 16:15:23\n",
            "date and time: 02/13/2022, 16:15:23\n"
          ]
        }
      ]
    },
    {
      "cell_type": "code",
      "source": [
        "# Example 2: Creating string from a timestamp\n",
        "\n",
        "from datetime import datetime\n",
        "\n",
        "timestamp = 1528797322\n",
        "date_time = datetime.fromtimestamp(timestamp)\n",
        "\n",
        "print(\"Date time object:\", date_time)\n",
        "\n",
        "d = date_time.strftime(\"%m/%d/%Y, %H:%M:%S\")\n",
        "print(\"Output 2:\", d)\t\n",
        "\n",
        "d = date_time.strftime(\"%d %b, %Y\")\n",
        "print(\"Output 3:\", d)\n",
        "\n",
        "d = date_time.strftime(\"%d %B, %Y\")\n",
        "print(\"Output 4:\", d)\n",
        "\n",
        "d = date_time.strftime(\"%I%p\")\n",
        "print(\"Output 5:\", d)"
      ],
      "metadata": {
        "colab": {
          "base_uri": "https://localhost:8080/"
        },
        "id": "fvvpGkkU2vtu",
        "outputId": "e7319f79-404b-4258-abbe-27605b68b528"
      },
      "execution_count": 26,
      "outputs": [
        {
          "output_type": "stream",
          "name": "stdout",
          "text": [
            "Date time object: 2018-06-12 09:55:22\n",
            "Output 2: 06/12/2018, 09:55:22\n",
            "Output 3: 12 Jun, 2018\n",
            "Output 4: 12 June, 2018\n",
            "Output 5: 09AM\n"
          ]
        }
      ]
    },
    {
      "cell_type": "code",
      "source": [
        ""
      ],
      "metadata": {
        "id": "yk12-bjK3tmL"
      },
      "execution_count": null,
      "outputs": []
    },
    {
      "cell_type": "markdown",
      "source": [
        "## Machine Learning"
      ],
      "metadata": {
        "id": "Z1ubaHE51008"
      }
    },
    {
      "cell_type": "code",
      "source": [
        "# For Python users, below is the code:\n",
        "# Decision tree\n",
        "\n",
        "#Import Library\n",
        "#Import other necessary libraries like pandas, numpy...\n",
        "from sklearn import tree\n",
        "#Assumed you have, X (predictor) and Y (target) for training data set and x_test(predictor) of test_dataset\n",
        "# Create tree object \n",
        "model = tree.DecisionTreeClassifier(criterion='gini') # for classification, here you can change the algorithm as gini or entropy (information gain) by default it is gini  \n",
        "# model = tree.DecisionTreeRegressor() for regression\n",
        "# Train the model using the training sets and check score\n",
        "model.fit(X, y)\n",
        "model.score(X, y)\n",
        "#Predict Output\n",
        "predicted= model.predict(x_test)"
      ],
      "metadata": {
        "id": "r44gva-o139R"
      },
      "execution_count": null,
      "outputs": []
    },
    {
      "cell_type": "code",
      "source": [
        "'''\n",
        "The following code is for the Random Forest\n",
        "Created by - ANALYTICS VIDHYA\n",
        "'''\n",
        "\n",
        "# importing required libraries\n",
        "import pandas as pd\n",
        "from sklearn.ensemble import RandomForestClassifier\n",
        "from sklearn.metrics import accuracy_score\n",
        "\n",
        "# read the train and test dataset\n",
        "train_data = pd.read_csv('train-data.csv')\n",
        "test_data = pd.read_csv('test-data.csv')\n",
        "\n",
        "# view the top 3 rows of the dataset\n",
        "print(train_data.head(3))\n",
        "\n",
        "# shape of the dataset\n",
        "print('\\nShape of training data :',train_data.shape)\n",
        "print('\\nShape of testing data :',test_data.shape)\n",
        "\n",
        "# Now, we need to predict the missing target variable in the test data\n",
        "# target variable - Survived\n",
        "\n",
        "# seperate the independent and target variable on training data\n",
        "train_x = train_data.drop(columns=['Survived'],axis=1)\n",
        "train_y = train_data['Survived']\n",
        "\n",
        "# seperate the independent and target variable on testing data\n",
        "test_x = test_data.drop(columns=['Survived'],axis=1)\n",
        "test_y = test_data['Survived']\n",
        "\n",
        "'''\n",
        "\n",
        "Create the object of the Random Forest model\n",
        "You can also add other parameters and test your code here\n",
        "Some parameters are : n_estimators and max_depth\n",
        "Documentation of sklearn RandomForestClassifier: \n",
        "\n",
        "https://scikit-learn.org/stable/modules/generated/sklearn.ensemble.RandomForestClassifier.html\n",
        "\n",
        "'''\n",
        "model = RandomForestClassifier()\n",
        "\n",
        "# fit the model with the training data\n",
        "model.fit(train_x,train_y)\n",
        "\n",
        "# number of trees used\n",
        "print('Number of Trees used : ', model.n_estimators)\n",
        "\n",
        "# predict the target on the train dataset\n",
        "predict_train = model.predict(train_x)\n",
        "print('\\nTarget on train data',predict_train) \n",
        "\n",
        "# Accuray Score on train dataset\n",
        "accuracy_train = accuracy_score(train_y,predict_train)\n",
        "print('\\naccuracy_score on train dataset : ', accuracy_train)\n",
        "\n",
        "# predict the target on the test dataset\n",
        "predict_test = model.predict(test_x)\n",
        "print('\\nTarget on test data',predict_test) \n",
        "\n",
        "# Accuracy Score on test dataset\n",
        "accuracy_test = accuracy_score(test_y,predict_test)\n",
        "print('\\naccuracy_score on test dataset : ', accuracy_test)\n"
      ],
      "metadata": {
        "id": "ys7Aly0J0tMb"
      },
      "execution_count": null,
      "outputs": []
    },
    {
      "cell_type": "code",
      "source": [
        "# You are given reviews for movies below:\n",
        "\n",
        "reviews = [\"movie is unwatchable no matter how decent the first half is.\",\n",
        "\"somewhat funny and well  paced action thriller that has jamie foxx as a hapless fast  talking hoodlum who is chosen by an overly demanding\", \n",
        "\"morse is okay as the agent who comes up with the ingenious plan to get whoever did it at all cost.\"]\n",
        "\n",
        "# Your task is to find sentiments from the review above. For this, you first write \n",
        "# a code to find count of individual words in all the sentences.\n",
        "from collections import Counter\n",
        "counts = Counter()\n",
        "\n",
        "for i in range(len(reviews)):\n",
        "    for word in reviews[i].split(\" \"):\n",
        "        counts[word] += 1\n",
        "print(counts)"
      ],
      "metadata": {
        "colab": {
          "base_uri": "https://localhost:8080/"
        },
        "id": "-Rt4L-Pb0tJl",
        "outputId": "5cb2a348-d1c0-44aa-d57e-b2a0550ae0b3"
      },
      "execution_count": 27,
      "outputs": [
        {
          "output_type": "stream",
          "name": "stdout",
          "text": [
            "Counter({'is': 3, 'the': 3, '': 2, 'as': 2, 'who': 2, 'movie': 1, 'unwatchable': 1, 'no': 1, 'matter': 1, 'how': 1, 'decent': 1, 'first': 1, 'half': 1, 'is.': 1, 'somewhat': 1, 'funny': 1, 'and': 1, 'well': 1, 'paced': 1, 'action': 1, 'thriller': 1, 'that': 1, 'has': 1, 'jamie': 1, 'foxx': 1, 'a': 1, 'hapless': 1, 'fast': 1, 'talking': 1, 'hoodlum': 1, 'chosen': 1, 'by': 1, 'an': 1, 'overly': 1, 'demanding': 1, 'morse': 1, 'okay': 1, 'agent': 1, 'comes': 1, 'up': 1, 'with': 1, 'ingenious': 1, 'plan': 1, 'to': 1, 'get': 1, 'whoever': 1, 'did': 1, 'it': 1, 'at': 1, 'all': 1, 'cost.': 1})\n"
          ]
        }
      ]
    },
    {
      "cell_type": "code",
      "source": [
        ""
      ],
      "metadata": {
        "id": "_Le_E23g3491"
      },
      "execution_count": null,
      "outputs": []
    },
    {
      "cell_type": "code",
      "source": [
        ""
      ],
      "metadata": {
        "id": "eNdlN4rR346R"
      },
      "execution_count": null,
      "outputs": []
    },
    {
      "cell_type": "markdown",
      "metadata": {
        "id": "MqqVQaN5GWlz"
      },
      "source": [
        "## How to run a basic RNN model using Pytorch?"
      ]
    },
    {
      "cell_type": "markdown",
      "metadata": {
        "id": "xa-OXIgDGQ49"
      },
      "source": [
        "This recipe uses the MNIST handwritten digits dataset for image classification. The RNN model predicts what the handwritten digit is. The recipe uses the following steps to accurately predict the handwritten digits:\n",
        "- Import Libraries\n",
        "- Prepare Dataset\n",
        "- Create RNN Model\n",
        "- Instantiate Model Class\n",
        "- Instantiate Loss Class\n",
        "- Instantiate Optimizer Class\n",
        "- Tran the Model\n",
        "- Prediction\n",
        "This recipe uses the helpful PyTorch utility DataLoader - which provide the ability to batch, shuffle and load the data in parallel using multiprocessing workers.\n",
        "\n",
        "What is RNN ?\n",
        "A recurrent neural network (RNN) is a type of deep learning artificial neural network commonly used in speech recognition and natural language processing (NLP). This neural net processes sequential data, and takes in as input both the new input and the output (or a hidden layer) of the net in the previous step. Since they have backward connection in their hidden layers they have memory states.\n",
        "\n",
        "What is PyTorch ?\n",
        "Pytorch is a Python deep learning library that uses the power of graphics processing units. Its strengths compared to other tools like tensorflow are its flexibility and speed. You can use other Python packages such as NumPy, SciPy to extend PyTorch functionalities.\n",
        "\n"
      ]
    },
    {
      "cell_type": "code",
      "metadata": {
        "id": "DS57glOOGIE2"
      },
      "source": [
        "import torch\n",
        "from torch import nn\n",
        "from torch.autograd import Variable\n",
        "import torchvision.datasets as dsets\n",
        "import torchvision.transforms as transforms\n",
        "import matplotlib.pyplot as plt\n",
        "%matplotlib inline"
      ],
      "execution_count": null,
      "outputs": []
    },
    {
      "cell_type": "code",
      "metadata": {
        "colab": {
          "base_uri": "https://localhost:8080/"
        },
        "id": "9ZfKIVd8Gfjp",
        "outputId": "1ae6b344-f818-49ff-8e44-e7554101d229"
      },
      "source": [
        "torch.manual_seed(1)"
      ],
      "execution_count": null,
      "outputs": [
        {
          "output_type": "execute_result",
          "data": {
            "text/plain": [
              "<torch._C.Generator at 0x7f91ec81fbb0>"
            ]
          },
          "metadata": {
            "tags": []
          },
          "execution_count": 16
        }
      ]
    },
    {
      "cell_type": "code",
      "metadata": {
        "id": "uzWCwJqYGhLe"
      },
      "source": [
        "# Hyper Parameters\n",
        "EPOCH = 1               # train the training data n times, to save time, we just train 1 epoch\n",
        "BATCH_SIZE = 64\n",
        "TIME_STEP = 28          # rnn time step / image height\n",
        "INPUT_SIZE = 28         # rnn input size / image width\n",
        "LR = 0.01               # learning rate\n",
        "DOWNLOAD_MNIST = True   # set to True if haven't download the data"
      ],
      "execution_count": null,
      "outputs": []
    },
    {
      "cell_type": "code",
      "metadata": {
        "colab": {
          "base_uri": "https://localhost:8080/",
          "height": 840,
          "referenced_widgets": [
            "51f92e43cbad41ce8efdea32e45a36db",
            "8c22a452f15a44949ae2000dc676b488",
            "b8195b5ff7cd4ce6a89473a80fe693f4",
            "5b319d249fc94ef69791a7c62abe3049",
            "44397c0191064137a903def889c92f5d",
            "ce109140ed66477199b01e845b68cbac",
            "44bcfd1158d046d484cae797278e38a4",
            "d2f2fcec6bd74b3086f7ba39220bfd02",
            "d77a56fdca83435cad186152f68de270",
            "9948913875424a8096b1ff41c6cc0266",
            "9cffcdeb5f2044f79014da5641a80713",
            "8add89ee7e6a42588496f94f16beea09",
            "30ed9555fbe544c0bf1f3a95fc3866df",
            "d97a1971347e43e0b6628db42daa1294",
            "f347a5862f8442a8aacd2f5d0db3bffe",
            "41912b78e8ee45ff80ab9f98ca380187",
            "6c0bc7f8f11148f58f67b4b4575e7ad5",
            "7547e41fb293470b86c8b04b018f294d",
            "a4565256250a41e5889ffc43251b30f9",
            "0ab3a6ba95834349965ee8424242520b",
            "d4f965b866c247a4b744a5d267c4f51d",
            "e6103452f9684dc981ea429456c5c3c8",
            "0ab626527f934e038d703e6b48e677dc",
            "e2df6a1a33db4992a40d5d8678fcf293",
            "2a5176b6d22a415b86bc1728bc3ec2ce",
            "1af50389032249a2b13b37a41815fb53",
            "4a3a5a67913a4b95bb5bf8d952f15e25",
            "998d60617d794fae9da7c0ffe8f770b8",
            "5c909176f85446d7af959cd27188a4c6",
            "0d7bcba68134409f9b06c2ceb4d46625",
            "f77374a2f01540b1a2f6d1bdcd38e613",
            "c767c3f0fc0c49e4b4e68057fd0b9eef"
          ]
        },
        "id": "MtTl_d0NGjbo",
        "outputId": "a278ca40-8515-4ff2-b230-84a7f5dd1850"
      },
      "source": [
        "# Mnist digital dataset\n",
        "train_data = dsets.MNIST(\n",
        "    root='./mnist/',\n",
        "    train=True,                         # this is training data\n",
        "    transform=transforms.ToTensor(),    # Converts a PIL.Image or numpy.ndarray to\n",
        "                                        # torch.FloatTensor of shape (C x H x W) and normalize in the range [0.0, 1.0]\n",
        "    download=DOWNLOAD_MNIST,            # download it if you don't have it\n",
        ")"
      ],
      "execution_count": null,
      "outputs": [
        {
          "output_type": "stream",
          "text": [
            "Downloading http://yann.lecun.com/exdb/mnist/train-images-idx3-ubyte.gz\n",
            "Failed to download (trying next):\n",
            "HTTP Error 503: Service Unavailable\n",
            "\n",
            "Downloading https://ossci-datasets.s3.amazonaws.com/mnist/train-images-idx3-ubyte.gz\n",
            "Downloading https://ossci-datasets.s3.amazonaws.com/mnist/train-images-idx3-ubyte.gz to ./mnist/MNIST/raw/train-images-idx3-ubyte.gz\n"
          ],
          "name": "stdout"
        },
        {
          "output_type": "display_data",
          "data": {
            "application/vnd.jupyter.widget-view+json": {
              "model_id": "51f92e43cbad41ce8efdea32e45a36db",
              "version_minor": 0,
              "version_major": 2
            },
            "text/plain": [
              "HBox(children=(FloatProgress(value=0.0, max=9912422.0), HTML(value='')))"
            ]
          },
          "metadata": {
            "tags": []
          }
        },
        {
          "output_type": "stream",
          "text": [
            "\n",
            "Extracting ./mnist/MNIST/raw/train-images-idx3-ubyte.gz to ./mnist/MNIST/raw\n",
            "\n",
            "Downloading http://yann.lecun.com/exdb/mnist/train-labels-idx1-ubyte.gz\n",
            "Failed to download (trying next):\n",
            "HTTP Error 503: Service Unavailable\n",
            "\n",
            "Downloading https://ossci-datasets.s3.amazonaws.com/mnist/train-labels-idx1-ubyte.gz\n",
            "Downloading https://ossci-datasets.s3.amazonaws.com/mnist/train-labels-idx1-ubyte.gz to ./mnist/MNIST/raw/train-labels-idx1-ubyte.gz\n"
          ],
          "name": "stdout"
        },
        {
          "output_type": "display_data",
          "data": {
            "application/vnd.jupyter.widget-view+json": {
              "model_id": "d77a56fdca83435cad186152f68de270",
              "version_minor": 0,
              "version_major": 2
            },
            "text/plain": [
              "HBox(children=(FloatProgress(value=0.0, max=28881.0), HTML(value='')))"
            ]
          },
          "metadata": {
            "tags": []
          }
        },
        {
          "output_type": "stream",
          "text": [
            "\n",
            "Extracting ./mnist/MNIST/raw/train-labels-idx1-ubyte.gz to ./mnist/MNIST/raw\n",
            "\n",
            "Downloading http://yann.lecun.com/exdb/mnist/t10k-images-idx3-ubyte.gz\n",
            "Failed to download (trying next):\n",
            "HTTP Error 503: Service Unavailable\n",
            "\n",
            "Downloading https://ossci-datasets.s3.amazonaws.com/mnist/t10k-images-idx3-ubyte.gz\n",
            "Downloading https://ossci-datasets.s3.amazonaws.com/mnist/t10k-images-idx3-ubyte.gz to ./mnist/MNIST/raw/t10k-images-idx3-ubyte.gz\n"
          ],
          "name": "stdout"
        },
        {
          "output_type": "display_data",
          "data": {
            "application/vnd.jupyter.widget-view+json": {
              "model_id": "6c0bc7f8f11148f58f67b4b4575e7ad5",
              "version_minor": 0,
              "version_major": 2
            },
            "text/plain": [
              "HBox(children=(FloatProgress(value=0.0, max=1648877.0), HTML(value='')))"
            ]
          },
          "metadata": {
            "tags": []
          }
        },
        {
          "output_type": "stream",
          "text": [
            "\n",
            "Extracting ./mnist/MNIST/raw/t10k-images-idx3-ubyte.gz to ./mnist/MNIST/raw\n",
            "\n",
            "Downloading http://yann.lecun.com/exdb/mnist/t10k-labels-idx1-ubyte.gz\n",
            "Failed to download (trying next):\n",
            "HTTP Error 503: Service Unavailable\n",
            "\n",
            "Downloading https://ossci-datasets.s3.amazonaws.com/mnist/t10k-labels-idx1-ubyte.gz\n",
            "Downloading https://ossci-datasets.s3.amazonaws.com/mnist/t10k-labels-idx1-ubyte.gz to ./mnist/MNIST/raw/t10k-labels-idx1-ubyte.gz\n"
          ],
          "name": "stdout"
        },
        {
          "output_type": "display_data",
          "data": {
            "application/vnd.jupyter.widget-view+json": {
              "model_id": "2a5176b6d22a415b86bc1728bc3ec2ce",
              "version_minor": 0,
              "version_major": 2
            },
            "text/plain": [
              "HBox(children=(FloatProgress(value=0.0, max=4542.0), HTML(value='')))"
            ]
          },
          "metadata": {
            "tags": []
          }
        },
        {
          "output_type": "stream",
          "text": [
            "\n",
            "Extracting ./mnist/MNIST/raw/t10k-labels-idx1-ubyte.gz to ./mnist/MNIST/raw\n",
            "\n"
          ],
          "name": "stdout"
        },
        {
          "output_type": "stream",
          "text": [
            "/usr/local/lib/python3.7/dist-packages/torchvision/datasets/mnist.py:498: UserWarning: The given NumPy array is not writeable, and PyTorch does not support non-writeable tensors. This means you can write to the underlying (supposedly non-writeable) NumPy array using the tensor. You may want to copy the array to protect its data or make it writeable before converting it to a tensor. This type of warning will be suppressed for the rest of this program. (Triggered internally at  /pytorch/torch/csrc/utils/tensor_numpy.cpp:180.)\n",
            "  return torch.from_numpy(parsed.astype(m[2], copy=False)).view(*s)\n"
          ],
          "name": "stderr"
        }
      ]
    },
    {
      "cell_type": "code",
      "metadata": {
        "colab": {
          "base_uri": "https://localhost:8080/",
          "height": 387
        },
        "id": "8G13eqwqGloe",
        "outputId": "21491092-4f0b-4770-93c0-04425345ff4b"
      },
      "source": [
        "# plot one example\n",
        "print(train_data.train_data.size())     # (60000, 28, 28)\n",
        "print(train_data.train_labels.size())   # (60000)\n",
        "plt.imshow(train_data.train_data[0].numpy(), cmap='gray')\n",
        "plt.title('%i' % train_data.train_labels[0])\n",
        "plt.show()\n"
      ],
      "execution_count": null,
      "outputs": [
        {
          "output_type": "stream",
          "text": [
            "torch.Size([60000, 28, 28])\n",
            "torch.Size([60000])\n"
          ],
          "name": "stdout"
        },
        {
          "output_type": "stream",
          "text": [
            "/usr/local/lib/python3.7/dist-packages/torchvision/datasets/mnist.py:62: UserWarning: train_data has been renamed data\n",
            "  warnings.warn(\"train_data has been renamed data\")\n",
            "/usr/local/lib/python3.7/dist-packages/torchvision/datasets/mnist.py:52: UserWarning: train_labels has been renamed targets\n",
            "  warnings.warn(\"train_labels has been renamed targets\")\n"
          ],
          "name": "stderr"
        },
        {
          "output_type": "display_data",
          "data": {
            "image/png": "[encoded data removed]",
            "text/plain": [
              "<Figure size 432x288 with 1 Axes>"
            ]
          },
          "metadata": {
            "tags": [],
            "needs_background": "light"
          }
        }
      ]
    },
    {
      "cell_type": "code",
      "metadata": {
        "id": "9oZ9fEqGGpKa"
      },
      "source": [
        "# Data Loader for easy mini-batch return in training\n",
        "train_loader = torch.utils.data.DataLoader(dataset=train_data,\n",
        "                                           batch_size=BATCH_SIZE, shuffle=True)"
      ],
      "execution_count": null,
      "outputs": []
    },
    {
      "cell_type": "code",
      "metadata": {
        "colab": {
          "base_uri": "https://localhost:8080/"
        },
        "id": "NRdGfwWHGsHl",
        "outputId": "93e815d3-e722-4949-fba7-8a78cd17ed25"
      },
      "source": [
        "# convert test data into Variable, pick 2000 samples to speed up testing\n",
        "test_data = dsets.MNIST(root='./mnist/', train=False, transform=transforms.ToTensor())\n",
        "test_x = Variable(test_data.test_data, volatile=True).type(torch.FloatTensor)[:2000]/255.\n",
        "# shape (2000, 28, 28) value in range(0,1)\n",
        "test_y = test_data.test_labels.numpy().squeeze()[:2000]    # covert to numpy array"
      ],
      "execution_count": null,
      "outputs": [
        {
          "output_type": "stream",
          "text": [
            "/usr/local/lib/python3.7/dist-packages/torchvision/datasets/mnist.py:67: UserWarning: test_data has been renamed data\n",
            "  warnings.warn(\"test_data has been renamed data\")\n",
            "/usr/local/lib/python3.7/dist-packages/ipykernel_launcher.py:3: UserWarning: volatile was removed and now has no effect. Use `with torch.no_grad():` instead.\n",
            "  This is separate from the ipykernel package so we can avoid doing imports until\n",
            "/usr/local/lib/python3.7/dist-packages/torchvision/datasets/mnist.py:57: UserWarning: test_labels has been renamed targets\n",
            "  warnings.warn(\"test_labels has been renamed targets\")\n"
          ],
          "name": "stderr"
        }
      ]
    },
    {
      "cell_type": "code",
      "metadata": {
        "id": "xm1Vq9yrGt3f"
      },
      "source": [
        "class RNN(nn.Module):\n",
        "    def __init__(self):\n",
        "        super(RNN, self).__init__()\n",
        "\n",
        "        self.rnn = nn.LSTM(         # if use nn.RNN(), it hardly learns\n",
        "            input_size=INPUT_SIZE,\n",
        "            hidden_size=64,         # rnn hidden unit\n",
        "            num_layers=1,           # number of rnn layer\n",
        "            batch_first=True,       # input & output will has batch size as 1s dimension. e.g. (batch, time_step, input_size)\n",
        "        )\n",
        "\n",
        "        self.out = nn.Linear(64, 10)\n",
        "\n",
        "    def forward(self, x):\n",
        "        # x shape (batch, time_step, input_size)\n",
        "        # r_out shape (batch, time_step, output_size)\n",
        "        # h_n shape (n_layers, batch, hidden_size)\n",
        "        # h_c shape (n_layers, batch, hidden_size)\n",
        "        r_out, (h_n, h_c) = self.rnn(x, None)   # None represents zero initial hidden state\n",
        "\n",
        "        # choose r_out at the last time step\n",
        "        out = self.out(r_out[:, -1, :])\n",
        "        return out"
      ],
      "execution_count": null,
      "outputs": []
    },
    {
      "cell_type": "code",
      "metadata": {
        "colab": {
          "base_uri": "https://localhost:8080/"
        },
        "id": "l2yunxS6GxCS",
        "outputId": "4e125bc8-8f9b-423d-ccf8-5b0686fad5fc"
      },
      "source": [
        "rnn = RNN()\n",
        "print(rnn)"
      ],
      "execution_count": null,
      "outputs": [
        {
          "output_type": "stream",
          "text": [
            "RNN(\n",
            "  (rnn): LSTM(28, 64, batch_first=True)\n",
            "  (out): Linear(in_features=64, out_features=10, bias=True)\n",
            ")\n"
          ],
          "name": "stdout"
        }
      ]
    },
    {
      "cell_type": "code",
      "metadata": {
        "id": "81WOzXgwGytr"
      },
      "source": [
        "optimizer = torch.optim.Adam(rnn.parameters(), lr=LR)   # optimize all cnn parameters\n",
        "loss_func = nn.CrossEntropyLoss()                       # the target label is not one-hotted"
      ],
      "execution_count": null,
      "outputs": []
    },
    {
      "cell_type": "code",
      "metadata": {
        "colab": {
          "base_uri": "https://localhost:8080/"
        },
        "id": "wRU4VF_TG1yR",
        "outputId": "4571e441-bb77-419e-fc09-c4d65641c3dd"
      },
      "source": [
        "# training and testing\n",
        "EPOCH = 1\n",
        "for epoch in range(EPOCH):\n",
        "    for step, (x, y) in enumerate(train_loader):        # gives batch data\n",
        "        b_x = Variable(x.view(-1, 28, 28))              # reshape x to (batch, time_step, input_size)\n",
        "        b_y = Variable(y)                               # batch y\n",
        "\n",
        "        output = rnn(b_x)                               # rnn output\n",
        "        loss = loss_func(output, b_y)                   # cross entropy loss\n",
        "        optimizer.zero_grad()                           # clear gradients for this training step\n",
        "        loss.backward()                                 # backpropagation, compute gradients\n",
        "        optimizer.step()                                # apply gradients\n",
        "\n",
        "        if step % 50 == 0:\n",
        "\n",
        "            test_output = rnn(test_x)                   # (samples, time_step, input_size)\n",
        "            pred_y = torch.max(test_output, 1)[1].data.numpy().squeeze()\n",
        "            accuracy = sum(pred_y == test_y) / float(test_y.size)\n",
        "            # print('Epoch: ', epoch, '| train loss: %.4f' % loss.data[0], '| test accuracy: %.2f' % accuracy)\n",
        "            print(epoch, loss, accuracy)"
      ],
      "execution_count": null,
      "outputs": [
        {
          "output_type": "stream",
          "text": [
            "0 tensor(2.3088, grad_fn=<NllLossBackward>) 0.089\n",
            "0 tensor(1.3115, grad_fn=<NllLossBackward>) 0.586\n",
            "0 tensor(0.7964, grad_fn=<NllLossBackward>) 0.688\n",
            "0 tensor(0.3439, grad_fn=<NllLossBackward>) 0.838\n",
            "0 tensor(0.3381, grad_fn=<NllLossBackward>) 0.802\n",
            "0 tensor(0.4272, grad_fn=<NllLossBackward>) 0.858\n",
            "0 tensor(0.2953, grad_fn=<NllLossBackward>) 0.907\n",
            "0 tensor(0.2332, grad_fn=<NllLossBackward>) 0.922\n",
            "0 tensor(0.0738, grad_fn=<NllLossBackward>) 0.9305\n",
            "0 tensor(0.0783, grad_fn=<NllLossBackward>) 0.914\n",
            "0 tensor(0.1300, grad_fn=<NllLossBackward>) 0.928\n",
            "0 tensor(0.2653, grad_fn=<NllLossBackward>) 0.9405\n",
            "0 tensor(0.3139, grad_fn=<NllLossBackward>) 0.935\n",
            "0 tensor(0.1752, grad_fn=<NllLossBackward>) 0.94\n",
            "0 tensor(0.0267, grad_fn=<NllLossBackward>) 0.951\n",
            "0 tensor(0.2825, grad_fn=<NllLossBackward>) 0.9405\n",
            "0 tensor(0.0765, grad_fn=<NllLossBackward>) 0.954\n",
            "0 tensor(0.1912, grad_fn=<NllLossBackward>) 0.956\n",
            "0 tensor(0.0842, grad_fn=<NllLossBackward>) 0.949\n"
          ],
          "name": "stdout"
        }
      ]
    },
    {
      "cell_type": "code",
      "metadata": {
        "colab": {
          "base_uri": "https://localhost:8080/"
        },
        "id": "Z0QIaf5GG3_v",
        "outputId": "c0e1b426-2c63-4b47-d668-5b1c642a9451"
      },
      "source": [
        "# print 10 predictions from test data\n",
        "test_output = rnn(test_x[:10].view(-1, 28, 28))\n",
        "pred_y = torch.max(test_output, 1)[1].data.numpy().squeeze()\n",
        "print(pred_y, 'prediction number')\n",
        "print(test_y[:10], 'real number')"
      ],
      "execution_count": null,
      "outputs": [
        {
          "output_type": "stream",
          "text": [
            "[7 2 1 0 4 1 4 9 5 9] prediction number\n",
            "[7 2 1 0 4 1 4 9 5 9] real number\n"
          ],
          "name": "stdout"
        }
      ]
    },
    {
      "cell_type": "code",
      "source": [
        ""
      ],
      "metadata": {
        "id": "3WvZVg1j49fI"
      },
      "execution_count": null,
      "outputs": []
    },
    {
      "cell_type": "markdown",
      "metadata": {
        "id": "qxxZh8K1Ib_4"
      },
      "source": [
        "### How to save and reload a deep learning model in Pytorch?\n",
        "\n",
        "This recipe provides options to save and reload an entire model or just the parameters of the model. While reloading this recipe copies the parameter from 1 net to another net. There are 3 main functions involved in saving and loading a model in pytorch.\n",
        "\n",
        "1. torch.save: This saves a serialized object to disk. It uses python's pickle utility for serialization. Models, tensors and dictionaries can be saved using this function.\n",
        "2. torch.load: torch.load: Uses pickle's unpickling facilities to deserialize pickled object files to memory. This function also facilitates the device to load the data into.\n",
        "3. torch.nn.Module.load_state_dict: Loads a model's parameter dictionary using a deserialized state_dict. The learnable parameters (i.e. weights and biases) of an torch.nn.Module model are contained in the model's parameters (accessed with model.parameters()). A state_dict is simply a Python dictionary object that maps each layer to its parameter tensor.\n",
        "\n",
        "What is PyTorch ?\n",
        "Pytorch is a Python-based scientific computing package that uses the power of graphics processing units and can replace the numpy library. It is also a very popular deep learning research platform built for flexibility and speed. You can use other Python packages such as NumPy, SciPy to extend PyTorch functionalities.\n",
        "\n",
        "What is Deep Learning Model ?\n",
        "Deep learning is a subset of machine learning. Deep learning uses neural networks to make predictions. A neural network takes inputs, which are then processed using hidden layers using weights that are adjusted during training. The model then outputs a prediction.\n",
        "\n"
      ]
    },
    {
      "cell_type": "code",
      "metadata": {
        "colab": {
          "base_uri": "https://localhost:8080/"
        },
        "id": "EmZMBIYzH42C",
        "outputId": "5f6393f6-bd93-4fb0-a8e6-736be935eb62"
      },
      "source": [
        "import torch\n",
        "from torch.autograd import Variable\n",
        "import matplotlib.pyplot as plt\n",
        "%matplotlib inline\n",
        "\n",
        "torch.manual_seed(1)    # reproducible"
      ],
      "execution_count": null,
      "outputs": [
        {
          "output_type": "execute_result",
          "data": {
            "text/plain": [
              "<torch._C.Generator at 0x7f91ec81fbb0>"
            ]
          },
          "metadata": {
            "tags": []
          },
          "execution_count": 27
        }
      ]
    },
    {
      "cell_type": "code",
      "metadata": {
        "id": "wXi7JdXuIji8"
      },
      "source": [
        "#sample data\n",
        "x = torch.unsqueeze(torch.linspace(-1, 1, 100), dim=1)  # x data (tensor), shape=(100, 1)\n",
        "y = x.pow(2) + 0.2*torch.rand(x.size())  # noisy y data (tensor), shape=(100, 1)\n",
        "x, y = Variable(x, requires_grad=False), Variable(y, requires_grad=False)"
      ],
      "execution_count": null,
      "outputs": []
    },
    {
      "cell_type": "code",
      "metadata": {
        "id": "UY13G3_jIl77"
      },
      "source": [
        "def save():\n",
        "    # save net1\n",
        "    net1 = torch.nn.Sequential(\n",
        "        torch.nn.Linear(1, 10),\n",
        "        torch.nn.ReLU(),\n",
        "        torch.nn.Linear(10, 1)\n",
        "    )\n",
        "    optimizer = torch.optim.SGD(net1.parameters(), lr=0.5)\n",
        "    loss_func = torch.nn.MSELoss()\n",
        "\n",
        "    for t in range(100):\n",
        "        prediction = net1(x)\n",
        "        loss = loss_func(prediction, y)\n",
        "        optimizer.zero_grad()\n",
        "        loss.backward()\n",
        "        optimizer.step()\n",
        "\n",
        "    # plot result\n",
        "    plt.figure(1, figsize=(10, 3))\n",
        "    plt.subplot(131)\n",
        "    plt.title('Net1')\n",
        "    plt.scatter(x.data.numpy(), y.data.numpy())\n",
        "    plt.plot(x.data.numpy(), prediction.data.numpy(), 'r-', lw=5)\n",
        "\n",
        "    # 2 ways to save the net\n",
        "    torch.save(net1, 'net.pkl')  # save entire net\n",
        "    torch.save(net1.state_dict(), 'net_params.pkl')   # save only the parameters\n"
      ],
      "execution_count": null,
      "outputs": []
    },
    {
      "cell_type": "code",
      "metadata": {
        "id": "HXncCwRpIpD_"
      },
      "source": [
        "def restore_net():\n",
        "    # restore entire net1 to net2\n",
        "    net2 = torch.load('net.pkl')\n",
        "    prediction = net2(x)\n",
        "\n",
        "    # plot result\n",
        "    plt.subplot(132)\n",
        "    plt.title('Net2')\n",
        "    plt.scatter(x.data.numpy(), y.data.numpy())\n",
        "    plt.plot(x.data.numpy(), prediction.data.numpy(), 'r-', lw=5)"
      ],
      "execution_count": null,
      "outputs": []
    },
    {
      "cell_type": "code",
      "metadata": {
        "id": "XD0u12HDIrP0"
      },
      "source": [
        "def restore_params():\n",
        "    # restore only the parameters in net1 to net3\n",
        "    net3 = torch.nn.Sequential(\n",
        "        torch.nn.Linear(1, 10),\n",
        "        torch.nn.ReLU(),\n",
        "        torch.nn.Linear(10, 1)\n",
        "    )\n",
        "\n",
        "    # copy net1's parameters into net3\n",
        "    net3.load_state_dict(torch.load('net_params.pkl'))\n",
        "    prediction = net3(x)\n",
        "\n",
        "    # plot result\n",
        "    plt.subplot(133)\n",
        "    plt.title('Net3')\n",
        "    plt.scatter(x.data.numpy(), y.data.numpy())\n",
        "    plt.plot(x.data.numpy(), prediction.data.numpy(), 'r-', lw=5)\n",
        "    plt.show()"
      ],
      "execution_count": null,
      "outputs": []
    },
    {
      "cell_type": "code",
      "metadata": {
        "colab": {
          "base_uri": "https://localhost:8080/",
          "height": 226
        },
        "id": "oDFEk5PRItPs",
        "outputId": "0953112b-aa53-4efa-9ce5-abe0babc8580"
      },
      "source": [
        "# save net1\n",
        "save()\n",
        "# restore entire net (may slow)\n",
        "restore_net()\n",
        "# restore only the net parameters\n",
        "restore_params()"
      ],
      "execution_count": null,
      "outputs": [
        {
          "output_type": "display_data",
          "data": {
            "image/png": "[encoded data removed]",
            "text/plain": [
              "<Figure size 720x216 with 3 Axes>"
            ]
          },
          "metadata": {
            "tags": [],
            "needs_background": "light"
          }
        }
      ]
    },
    {
      "cell_type": "code",
      "source": [
        ""
      ],
      "metadata": {
        "id": "ImsUX0hF49b3"
      },
      "execution_count": null,
      "outputs": []
    },
    {
      "cell_type": "markdown",
      "metadata": {
        "id": "ANXOWsqdI5IB"
      },
      "source": [
        "### How to use auto encoder for unsupervised learning models?\n",
        "\n",
        "This recipe builds an autoencoder for compressing the number of features in the MNIST handwritten digits dataset.\n",
        "\n",
        "For building an autoencoder, three components are used in this recipe :\n",
        "- an encoding function,\n",
        "- a decoding function,\n",
        "- a loss function between the amount of information loss between the compressed representation of your data and the decompressed representation.\n",
        "What is an Auto encoder ?\n",
        "An auto encoder is used to encode features so that it takes up much less storage space but effectively represents the same data. It is a type of neural network that learns efficient data codings in an unsupervised way. The aim of an autoencoder is to learn a representation for a dataset, for dimensionality reduction, by ignoring signal \"noise\".\n",
        "\n",
        "What is Unsupervised learning model ?\n",
        "Unsupervised machine learning models infer patterns from a dataset without reference to known, or labeled, outcomes. Unlike supervised machine learning, unsupervised machine learning methods cannot be directly applied to a problem because you have no idea what the values for the output data might be, making it impossible for you to train the algorithm the way you normally would. Unsupervised learning can instead be used for discovering the underlying structure of the data."
      ]
    },
    {
      "cell_type": "code",
      "metadata": {
        "id": "21otD519Iv2s"
      },
      "source": [
        "import torch\n",
        "import torch.nn as nn\n",
        "from torch.autograd import Variable\n",
        "import torch.utils.data as Data\n",
        "import torchvision\n",
        "import matplotlib.pyplot as plt\n",
        "from mpl_toolkits.mplot3d import Axes3D\n",
        "from matplotlib import cm\n",
        "import numpy as np\n",
        "%matplotlib inline"
      ],
      "execution_count": null,
      "outputs": []
    },
    {
      "cell_type": "code",
      "metadata": {
        "colab": {
          "base_uri": "https://localhost:8080/"
        },
        "id": "QJk3xFZaJCVW",
        "outputId": "2295c416-a5f6-4912-d6d0-bdb1f91b412c"
      },
      "source": [
        "torch.manual_seed(1)    # reproducible"
      ],
      "execution_count": null,
      "outputs": [
        {
          "output_type": "execute_result",
          "data": {
            "text/plain": [
              "<torch._C.Generator at 0x7fb991c97cf0>"
            ]
          },
          "metadata": {
            "tags": []
          },
          "execution_count": 41
        }
      ]
    },
    {
      "cell_type": "code",
      "metadata": {
        "id": "4CZHr4nwJEne"
      },
      "source": [
        "# Hyper Parameters\n",
        "EPOCH = 10\n",
        "BATCH_SIZE = 64\n",
        "LR = 0.005         # learning rate\n",
        "DOWNLOAD_MNIST = False\n",
        "N_TEST_IMG = 5"
      ],
      "execution_count": null,
      "outputs": []
    },
    {
      "cell_type": "code",
      "metadata": {
        "id": "uQS1ncPTJGhn"
      },
      "source": [
        "# Mnist digits dataset\n",
        "train_data = torchvision.datasets.MNIST(\n",
        "    root='./mnist/',\n",
        "    train=True,\n",
        "    # this is training data\n",
        "    transform=torchvision.transforms.ToTensor(),\n",
        "    # Converts a PIL.Image or numpy.ndarray to\n",
        "\n",
        "    # torch.FloatTensor of shape (C x H x W) and normalize in the range [0.0, 1.0]\n",
        "    download=DOWNLOAD_MNIST,\n",
        "    # download it if you don't have it\n",
        ")"
      ],
      "execution_count": null,
      "outputs": []
    },
    {
      "cell_type": "code",
      "metadata": {
        "colab": {
          "base_uri": "https://localhost:8080/",
          "height": 383
        },
        "id": "MeNEfwQ_JInf",
        "outputId": "b0586f0f-aab7-446e-9415-28718a60f91e"
      },
      "source": [
        "# plot one example\n",
        "print(train_data.train_data.size())     # (60000, 28, 28)\n",
        "print(train_data.train_labels.size())   # (60000)\n",
        "plt.imshow(train_data.train_data[2].numpy(), cmap='gray')\n",
        "plt.title('%i' % train_data.train_labels[2])\n",
        "plt.show()"
      ],
      "execution_count": null,
      "outputs": [
        {
          "output_type": "stream",
          "text": [
            "torch.Size([60000, 28, 28])\n",
            "torch.Size([60000])\n"
          ],
          "name": "stdout"
        },
        {
          "output_type": "stream",
          "text": [
            "/usr/local/lib/python3.6/dist-packages/torchvision/datasets/mnist.py:58: UserWarning: train_data has been renamed data\n",
            "  warnings.warn(\"train_data has been renamed data\")\n",
            "/usr/local/lib/python3.6/dist-packages/torchvision/datasets/mnist.py:48: UserWarning: train_labels has been renamed targets\n",
            "  warnings.warn(\"train_labels has been renamed targets\")\n"
          ],
          "name": "stderr"
        },
        {
          "output_type": "display_data",
          "data": {
            "image/png": "[encoded data removed]",
            "text/plain": [
              "<Figure size 432x288 with 1 Axes>"
            ]
          },
          "metadata": {
            "tags": [],
            "needs_background": "light"
          }
        }
      ]
    },
    {
      "cell_type": "code",
      "metadata": {
        "id": "f8O32UtSJK2X"
      },
      "source": [
        "# Data Loader for easy mini-batch return in training, the image batch shape will be (50, 1, 28, 28)\n",
        "train_loader = Data.DataLoader(dataset=train_data, batch_size=BATCH_SIZE, shuffle=True)"
      ],
      "execution_count": null,
      "outputs": []
    },
    {
      "cell_type": "code",
      "metadata": {
        "id": "84cN4xKFJMkp"
      },
      "source": [
        "class AutoEncoder(nn.Module):\n",
        "    def __init__(self):\n",
        "        super(AutoEncoder, self).__init__()\n",
        "\n",
        "        self.encoder = nn.Sequential(\n",
        "            nn.Linear(28*28, 128),\n",
        "            nn.Tanh(),\n",
        "            nn.Linear(128, 64),\n",
        "            nn.Tanh(),\n",
        "            nn.Linear(64, 12),\n",
        "            nn.Tanh(),\n",
        "            nn.Linear(12, 3),   # compress to 3 features which can be visualized in plt\n",
        "        )\n",
        "        self.decoder = nn.Sequential(\n",
        "            nn.Linear(3, 12),\n",
        "            nn.Tanh(),\n",
        "            nn.Linear(12, 64),\n",
        "            nn.Tanh(),\n",
        "            nn.Linear(64, 128),\n",
        "            nn.Tanh(),\n",
        "            nn.Linear(128, 28*28),\n",
        "            nn.Sigmoid(),       # compress to a range (0, 1)\n",
        "        )\n",
        "\n",
        "    def forward(self, x):\n",
        "        encoded = self.encoder(x)\n",
        "        decoded = self.decoder(encoded)\n",
        "        return encoded, decoded\n"
      ],
      "execution_count": null,
      "outputs": []
    },
    {
      "cell_type": "code",
      "metadata": {
        "colab": {
          "base_uri": "https://localhost:8080/"
        },
        "id": "6budYeq9JP7V",
        "outputId": "6f3826fa-404d-4f2b-b663-b6f6612bd396"
      },
      "source": [
        "autoencoder = AutoEncoder()\n",
        "print(autoencoder)\n",
        "\n",
        "optimizer = torch.optim.Adam(autoencoder.parameters(), lr=LR)\n",
        "loss_func = nn.MSELoss()\n",
        "\n",
        "# original data (first row) for viewing\n",
        "view_data = Variable(train_data.train_data[:N_TEST_IMG].view(-1, 28*28).type(torch.FloatTensor)/255.)"
      ],
      "execution_count": null,
      "outputs": [
        {
          "output_type": "stream",
          "text": [
            "AutoEncoder(\n",
            "  (encoder): Sequential(\n",
            "    (0): Linear(in_features=784, out_features=128, bias=True)\n",
            "    (1): Tanh()\n",
            "    (2): Linear(in_features=128, out_features=64, bias=True)\n",
            "    (3): Tanh()\n",
            "    (4): Linear(in_features=64, out_features=12, bias=True)\n",
            "    (5): Tanh()\n",
            "    (6): Linear(in_features=12, out_features=3, bias=True)\n",
            "  )\n",
            "  (decoder): Sequential(\n",
            "    (0): Linear(in_features=3, out_features=12, bias=True)\n",
            "    (1): Tanh()\n",
            "    (2): Linear(in_features=12, out_features=64, bias=True)\n",
            "    (3): Tanh()\n",
            "    (4): Linear(in_features=64, out_features=128, bias=True)\n",
            "    (5): Tanh()\n",
            "    (6): Linear(in_features=128, out_features=784, bias=True)\n",
            "    (7): Sigmoid()\n",
            "  )\n",
            ")\n"
          ],
          "name": "stdout"
        },
        {
          "output_type": "stream",
          "text": [
            "/usr/local/lib/python3.6/dist-packages/torchvision/datasets/mnist.py:58: UserWarning: train_data has been renamed data\n",
            "  warnings.warn(\"train_data has been renamed data\")\n"
          ],
          "name": "stderr"
        }
      ]
    },
    {
      "cell_type": "code",
      "metadata": {
        "colab": {
          "base_uri": "https://localhost:8080/",
          "height": 869
        },
        "id": "Zgi_VtmDJRZl",
        "outputId": "131e95af-7781-452d-8b5e-06a4e35a3cc5"
      },
      "source": [
        "for epoch in range(EPOCH):\n",
        "    for step, (x, y) in enumerate(train_loader):\n",
        "        b_x = Variable(x.view(-1, 28*28))   # batch x, shape (batch, 28*28)\n",
        "        b_y = Variable(x.view(-1, 28*28))   # batch y, shape (batch, 28*28)\n",
        "        b_label = Variable(y)               # batch label\n",
        "\n",
        "        encoded, decoded = autoencoder(b_x)\n",
        "\n",
        "        loss = loss_func(decoded, b_y)      # mean square error\n",
        "        optimizer.zero_grad()               # clear gradients for this training step\n",
        "        loss.backward()                     # backpropagation, compute gradients\n",
        "        optimizer.step()                    # apply gradients\n",
        "\n",
        "        if step % 500 == 0 and epoch in [0, 5, EPOCH-1]:\n",
        "            print('Epoch: ', epoch, '| train loss: %.4f' % loss)\n",
        "\n",
        "            # plotting decoded image (second row)\n",
        "            _, decoded_data = autoencoder(view_data)\n",
        "\n",
        "            # initialize figure\n",
        "            f, a = plt.subplots(2, N_TEST_IMG, figsize=(5, 2))\n",
        "\n",
        "            for i in range(N_TEST_IMG):\n",
        "                a[0][i].imshow(np.reshape(view_data.data.numpy()[i],\n",
        "                                          (28, 28)), cmap='gray');\n",
        "                a[0][i].set_xticks(()); a[0][i].set_yticks(())\n",
        "\n",
        "            for i in range(N_TEST_IMG):\n",
        "                a[1][i].clear()\n",
        "                a[1][i].imshow(np.reshape(decoded_data.data.numpy()[i],\n",
        "                                          (28, 28)), cmap='gray')\n",
        "                a[1][i].set_xticks(()); a[1][i].set_yticks(())\n",
        "            plt.show(); #plt.pause(0.05)\n"
      ],
      "execution_count": null,
      "outputs": [
        {
          "output_type": "stream",
          "text": [
            "Epoch:  0 | train loss: 0.1674\n"
          ],
          "name": "stdout"
        },
        {
          "output_type": "display_data",
          "data": {
            "image/png": "[encoded data removed]",
            "text/plain": [
              "<Figure size 360x144 with 10 Axes>"
            ]
          },
          "metadata": {
            "tags": []
          }
        },
        {
          "output_type": "stream",
          "text": [
            "Epoch:  0 | train loss: 0.0580\n"
          ],
          "name": "stdout"
        },
        {
          "output_type": "display_data",
          "data": {
            "image/png": "[encoded data removed]",
            "text/plain": [
              "<Figure size 360x144 with 10 Axes>"
            ]
          },
          "metadata": {
            "tags": []
          }
        },
        {
          "output_type": "stream",
          "text": [
            "Epoch:  5 | train loss: 0.0414\n"
          ],
          "name": "stdout"
        },
        {
          "output_type": "display_data",
          "data": {
            "image/png": "[encoded data removed]",
            "text/plain": [
              "<Figure size 360x144 with 10 Axes>"
            ]
          },
          "metadata": {
            "tags": []
          }
        },
        {
          "output_type": "stream",
          "text": [
            "Epoch:  5 | train loss: 0.0367\n"
          ],
          "name": "stdout"
        },
        {
          "output_type": "display_data",
          "data": {
            "image/png": "[encoded data removed]",
            "text/plain": [
              "<Figure size 360x144 with 10 Axes>"
            ]
          },
          "metadata": {
            "tags": []
          }
        },
        {
          "output_type": "stream",
          "text": [
            "Epoch:  9 | train loss: 0.0364\n"
          ],
          "name": "stdout"
        },
        {
          "output_type": "display_data",
          "data": {
            "image/png": "[encoded data removed]",
            "text/plain": [
              "<Figure size 360x144 with 10 Axes>"
            ]
          },
          "metadata": {
            "tags": []
          }
        },
        {
          "output_type": "stream",
          "text": [
            "Epoch:  9 | train loss: 0.0393\n"
          ],
          "name": "stdout"
        },
        {
          "output_type": "display_data",
          "data": {
            "image/png": "[encoded data removed]",
            "text/plain": [
              "<Figure size 360x144 with 10 Axes>"
            ]
          },
          "metadata": {
            "tags": []
          }
        }
      ]
    },
    {
      "cell_type": "code",
      "source": [
        ""
      ],
      "metadata": {
        "id": "6PRHL8Mw7D6u"
      },
      "execution_count": null,
      "outputs": []
    },
    {
      "cell_type": "markdown",
      "source": [
        "## RNN"
      ],
      "metadata": {
        "id": "Yi2UtGf87SyS"
      }
    },
    {
      "cell_type": "code",
      "source": [
        "import torch\n",
        "from torch import nn\n",
        "\n",
        "import numpy as np"
      ],
      "metadata": {
        "id": "iLdKfm1J7SyU"
      },
      "execution_count": null,
      "outputs": []
    },
    {
      "cell_type": "markdown",
      "source": [
        "First, we'll define the sentences that we want our model to output when fed with the first word or the first few characters.\n",
        "\n",
        "Then we'll create a dictionary out of all the characters that we have in the sentences and map them to an integer. This will allow us to convert our input characters to their respective integers (char2int) and vice versa (int2char)."
      ],
      "metadata": {
        "id": "Yge1DsPaGi9c"
      }
    },
    {
      "cell_type": "code",
      "source": [
        "text = ['hey how are you','good i am fine','have a nice day']\n",
        "\n",
        "# Join all the sentences together and extract the unique characters from the combined sentences\n",
        "chars = set(''.join(text))\n",
        "\n",
        "# Creating a dictionary that maps integers to the characters\n",
        "int2char = dict(enumerate(chars))\n",
        "\n",
        "# Creating another dictionary that maps characters to integers\n",
        "char2int = {char: ind for ind, char in int2char.items()}\n",
        "\n",
        "# The char2int dictionary will look like this: It holds all the letters/symbols \n",
        "# that were present in our sentences and maps each of them to a unique integer.\n",
        "char2int"
      ],
      "metadata": {
        "colab": {
          "base_uri": "https://localhost:8080/"
        },
        "id": "zlpj0NQ5GYHi",
        "outputId": "ff940952-ba63-4a36-bd72-c8f05e662495"
      },
      "execution_count": null,
      "outputs": [
        {
          "output_type": "execute_result",
          "data": {
            "text/plain": [
              "{' ': 7,\n",
              " 'a': 10,\n",
              " 'c': 13,\n",
              " 'd': 3,\n",
              " 'e': 9,\n",
              " 'f': 4,\n",
              " 'g': 14,\n",
              " 'h': 15,\n",
              " 'i': 0,\n",
              " 'm': 11,\n",
              " 'n': 12,\n",
              " 'o': 5,\n",
              " 'r': 2,\n",
              " 'u': 16,\n",
              " 'v': 1,\n",
              " 'w': 8,\n",
              " 'y': 6}"
            ]
          },
          "metadata": {},
          "execution_count": 12
        }
      ]
    },
    {
      "cell_type": "markdown",
      "source": [
        "Next, we'll be padding our input sentences to ensure that all the sentences are of standard length. While RNNs are typically able to take in variably sized inputs, we will usually want to feed training data in batches to speed up the training process. In order to used batches to train on our data, we'll need to ensure that each sequence within the input data is of equal size.\n",
        "\n",
        "Therefore, in most cases, padding can be done by filling up sequences that are too short with 0 values and trimming sequences that are too long. In our case, we'll be finding the length of the longest sequence and padding the rest of the sentences with blank spaces to match that length."
      ],
      "metadata": {
        "id": "caiGMdWgGuPV"
      }
    },
    {
      "cell_type": "code",
      "source": [
        "# Finding the length of the longest string in our data\n",
        "maxlen = len(max(text, key=len))\n",
        "\n",
        "# Padding\n",
        "\n",
        "# A simple loop that loops through the list of sentences and adds a ' ' whitespace until the length of\n",
        "# the sentence matches the length of the longest sentence\n",
        "for i in range(len(text)):\n",
        "  while len(text[i])<maxlen:\n",
        "      text[i] += ' '"
      ],
      "metadata": {
        "id": "VKY6-x5KGX7W"
      },
      "execution_count": null,
      "outputs": []
    },
    {
      "cell_type": "markdown",
      "source": [
        "As we're going to predict the next character in the sequence at each time step, we'll have to divide each sentence into:\n",
        "\n",
        "Input data\n",
        "- The last input character should be excluded as it does not need to be fed into the model.\n",
        "\n",
        "Target/Ground Truth Label\n",
        "- One time-step ahead of the Input data as this will be the \"correct answer\" for the model at each time step corresponding to the input data"
      ],
      "metadata": {
        "id": "HJ3KeC4kGzQt"
      }
    },
    {
      "cell_type": "code",
      "source": [
        "# Creating lists that will hold our input and target sequences\n",
        "input_seq = []\n",
        "target_seq = []\n",
        "\n",
        "for i in range(len(text)):\n",
        "    # Remove last character for input sequence\n",
        "  input_seq.append(text[i][:-1])\n",
        "    \n",
        "    # Remove first character for target sequence\n",
        "  target_seq.append(text[i][1:])\n",
        "  print(\"Input Sequence: {}\\nTarget Sequence: {}\".format(input_seq[i], target_seq[i]))"
      ],
      "metadata": {
        "colab": {
          "base_uri": "https://localhost:8080/"
        },
        "id": "XJpZdZJeGwrD",
        "outputId": "b110c17e-387e-4317-c751-038fc956bf25"
      },
      "execution_count": null,
      "outputs": [
        {
          "output_type": "stream",
          "name": "stdout",
          "text": [
            "Input Sequence: hey how are yo\n",
            "Target Sequence: ey how are you\n",
            "Input Sequence: good i am fine\n",
            "Target Sequence: ood i am fine \n",
            "Input Sequence: have a nice da\n",
            "Target Sequence: ave a nice day\n"
          ]
        }
      ]
    },
    {
      "cell_type": "markdown",
      "source": [
        "Our input sequence and target sequence will look like this:\n",
        "\n",
        "Input Sequence: hey how are yo\n",
        "Target Sequence: ey how are you\n",
        "The target sequence will always be one-time step ahead of the input sequence.\n",
        "\n",
        "Now we can convert our input and target sequences to sequences of integers instead of a sequence of characters by mapping them using the dictionaries we created above. This will allow us to one-hot-encode our input sequence subsequently."
      ],
      "metadata": {
        "id": "i4x4QK4KG9FB"
      }
    },
    {
      "cell_type": "code",
      "source": [
        "for i in range(len(text)):\n",
        "    input_seq[i] = [char2int[character] for character in input_seq[i]]\n",
        "    target_seq[i] = [char2int[character] for character in target_seq[i]]"
      ],
      "metadata": {
        "id": "AlHVSwaRG7DA"
      },
      "execution_count": null,
      "outputs": []
    },
    {
      "cell_type": "markdown",
      "source": [
        "Before encoding our input sequence into one-hot vectors, we'll define 3 key variables:\n",
        "\n",
        "1. dict_size: Dictionary size - The number of unique characters that we have in our text\n",
        "- This will determine the one-hot vector size as each character will have an assigned index in that vector\n",
        "\n",
        "2. seq_len: The length of the sequences that we're feeding into the model\n",
        "- As we standardized the length of all our sentences to be equal to the longest sentences, this value will be the max length - 1 as we removed the last character input as well\n",
        "\n",
        "3. batch_size: The number of sentences that we defined and are going to feed into the model as a batch"
      ],
      "metadata": {
        "id": "2ZzASMVGHCtO"
      }
    },
    {
      "cell_type": "code",
      "source": [
        "dict_size = len(char2int)\n",
        "seq_len = maxlen - 1\n",
        "batch_size = len(text)\n",
        "\n",
        "def one_hot_encode(sequence, dict_size, seq_len, batch_size):\n",
        "    # Creating a multi-dimensional array of zeros with the desired output shape\n",
        "    features = np.zeros((batch_size, seq_len, dict_size), dtype=np.float32)\n",
        "    \n",
        "    # Replacing the 0 at the relevant character index with a 1 to represent that character\n",
        "    for i in range(batch_size):\n",
        "        for u in range(seq_len):\n",
        "            features[i, u, sequence[i][u]] = 1\n",
        "    return features"
      ],
      "metadata": {
        "id": "BdCj-zemHAfG"
      },
      "execution_count": null,
      "outputs": []
    },
    {
      "cell_type": "markdown",
      "source": [
        "We also defined a helper function that creates arrays of zeros for each character and replaces the corresponding character index with a 1."
      ],
      "metadata": {
        "id": "iCt1gJupHOO-"
      }
    },
    {
      "cell_type": "code",
      "source": [
        "# Input shape --> (Batch Size, Sequence Length, One-Hot Encoding Size)\n",
        "input_seq = one_hot_encode(input_seq, dict_size, seq_len, batch_size)"
      ],
      "metadata": {
        "id": "63JiK6DHHMus"
      },
      "execution_count": null,
      "outputs": []
    },
    {
      "cell_type": "markdown",
      "source": [
        "Since we're done with all the data pre-processing, we can now move the data from NumPy arrays to PyTorch's very own data structure - Torch Tensors."
      ],
      "metadata": {
        "id": "1dOgZ6JCHRlD"
      }
    },
    {
      "cell_type": "code",
      "source": [
        "input_seq = torch.from_numpy(input_seq)\n",
        "target_seq = torch.Tensor(target_seq)"
      ],
      "metadata": {
        "id": "RXmvvi56HQPG"
      },
      "execution_count": null,
      "outputs": []
    },
    {
      "cell_type": "markdown",
      "source": [
        "Now we've reached the fun part of this project! We'll be defining the model using the Torch library, and this is where you can add or remove layers, be it fully connected layers, convolutional layers, vanilla RNN layers, LSTM layers, and many more! In this post, we'll be using the basic nn.rnn to demonstrate a simple example of how RNNs can be used.\n",
        "\n",
        "Before we start building the model, let's use a built-in feature in PyTorch to check the device we're running on (CPU or GPU). This implementation will not require GPU as the training is really simple. However, as you progress on to large datasets and models with millions of trainable parameters, using the GPU will be very important to speed up your training."
      ],
      "metadata": {
        "id": "I_T_AxbeHUy-"
      }
    },
    {
      "cell_type": "code",
      "source": [
        "# torch.cuda.is_available() checks and returns a Boolean True if a GPU is available, else it'll return False\n",
        "is_cuda = torch.cuda.is_available()\n",
        "\n",
        "# If we have a GPU available, we'll set our device to GPU. We'll use this device variable later in our code.\n",
        "if is_cuda:\n",
        "    device = torch.device(\"cuda\")\n",
        "    print(\"GPU is available\")\n",
        "else:\n",
        "    device = torch.device(\"cpu\")\n",
        "    print(\"GPU not available, CPU used\")"
      ],
      "metadata": {
        "colab": {
          "base_uri": "https://localhost:8080/"
        },
        "id": "9_G3pvORHTWb",
        "outputId": "d9e0cfe0-7db0-4eea-a512-6f4e842a87d2"
      },
      "execution_count": null,
      "outputs": [
        {
          "output_type": "stream",
          "name": "stdout",
          "text": [
            "GPU not available, CPU used\n"
          ]
        }
      ]
    },
    {
      "cell_type": "markdown",
      "source": [
        "To start building our own neural network model, we can define a class that inherits PyTorch’s base class(nn.module) for all neural network modules. After doing so, we can start defining some variables and also the layers for our model under the constructor. For this model, we’ll only be using 1 layer of RNN followed by a fully connected layer. The fully connected layer will be in charge of converting the RNN output to our desired output shape.\n",
        "\n",
        "We’ll also have to define the forward pass function under forward() as a class method. The forward function is executed sequentially, therefore we’ll have to pass the inputs and the zero-initialized hidden state through the RNN layer first, before passing the RNN outputs to the fully-connected layer. Note that we are using the layers that we defined in the constructor.\n",
        "\n",
        "The last method that we have to define is the method that we called earlier to initialize the hidden state - init_hidden(). This basically creates a tensor of zeros in the shape of our hidden states."
      ],
      "metadata": {
        "id": "I6U-oLNJHiR3"
      }
    },
    {
      "cell_type": "code",
      "source": [
        "class Model(nn.Module):\n",
        "    def __init__(self, input_size, output_size, hidden_dim, n_layers):\n",
        "        super(Model, self).__init__()\n",
        "\n",
        "        # Defining some parameters\n",
        "        self.hidden_dim = hidden_dim\n",
        "        self.n_layers = n_layers\n",
        "\n",
        "        #Defining the layers\n",
        "        # RNN Layer\n",
        "        self.rnn = nn.RNN(input_size, hidden_dim, n_layers, batch_first=True)   \n",
        "        # Fully connected layer\n",
        "        self.fc = nn.Linear(hidden_dim, output_size)\n",
        "    \n",
        "    def forward(self, x):\n",
        "        \n",
        "        batch_size = x.size(0)\n",
        "\n",
        "        # Initializing hidden state for first input using method defined below\n",
        "        hidden = self.init_hidden(batch_size)\n",
        "\n",
        "        # Passing in the input and hidden state into the model and obtaining outputs\n",
        "        out, hidden = self.rnn(x, hidden)\n",
        "        \n",
        "        # Reshaping the outputs such that it can be fit into the fully connected layer\n",
        "        out = out.contiguous().view(-1, self.hidden_dim)\n",
        "        out = self.fc(out)\n",
        "        \n",
        "        return out, hidden\n",
        "    \n",
        "    def init_hidden(self, batch_size):\n",
        "        # This method generates the first hidden state of zeros which we'll use in the forward pass\n",
        "        # We'll send the tensor holding the hidden state to the device we specified earlier as well\n",
        "        hidden = torch.zeros(self.n_layers, batch_size, self.hidden_dim)\n",
        "        return hidden"
      ],
      "metadata": {
        "id": "K0x7nGg6HW0W"
      },
      "execution_count": null,
      "outputs": []
    },
    {
      "cell_type": "markdown",
      "source": [
        "After defining the model above, we'll have to instantiate the model with the relevant parameters and define our hyper-parameters as well. The hyper-parameters we're defining below are:\n",
        "\n",
        "- n_epochs: Number of Epochs --> Number of times our model will go through the entire training dataset\n",
        "- lr: Learning Rate --> Rate at which our model updates the weights in the cells each time back-propagation is done\n",
        "For a more in-depth guide on hyper-parameters, you can refer to this comprehensive article.\n",
        "\n",
        "Similar to other neural networks, we have to define the optimizer and loss function as well. We’ll be using CrossEntropyLoss as the final output is basically a classification task and the common Adam optimizer."
      ],
      "metadata": {
        "id": "-Lfans1iHm6D"
      }
    },
    {
      "cell_type": "code",
      "source": [
        "# Instantiate the model with hyperparameters\n",
        "model = Model(input_size=dict_size, output_size=dict_size, hidden_dim=12, n_layers=1)\n",
        "# We'll also set the model to the device that we defined earlier (default is CPU)\n",
        "model.to(device)\n",
        "\n",
        "# Define hyperparameters\n",
        "n_epochs = 100\n",
        "lr=0.01\n",
        "\n",
        "# Define Loss, Optimizer\n",
        "criterion = nn.CrossEntropyLoss()\n",
        "optimizer = torch.optim.Adam(model.parameters(), lr=lr)"
      ],
      "metadata": {
        "id": "pa3pimX4Hk2H"
      },
      "execution_count": null,
      "outputs": []
    },
    {
      "cell_type": "markdown",
      "source": [
        "Now we can begin our training! As we only have a few sentences, this training process is very fast. However, as we progress, larger datasets and deeper models mean that the input data is much larger and the number of parameters within the model that we have to compute is much more."
      ],
      "metadata": {
        "id": "lR2hyTc8HuOJ"
      }
    },
    {
      "cell_type": "code",
      "source": [
        "# Training Run\n",
        "for epoch in range(1, n_epochs + 1):\n",
        "    optimizer.zero_grad() # Clears existing gradients from previous epoch\n",
        "    input_seq.to(device)\n",
        "    output, hidden = model(input_seq)\n",
        "    loss = criterion(output, target_seq.view(-1).long())\n",
        "    loss.backward() # Does backpropagation and calculates gradients\n",
        "    optimizer.step() # Updates the weights accordingly\n",
        "    \n",
        "    if epoch%10 == 0:\n",
        "        print('Epoch: {}/{}.............'.format(epoch, n_epochs), end=' ')\n",
        "        print(\"Loss: {:.4f}\".format(loss.item()))"
      ],
      "metadata": {
        "colab": {
          "base_uri": "https://localhost:8080/"
        },
        "id": "fS4sYjCJHsNU",
        "outputId": "02146aea-261e-4e90-8aea-e84b4a4fe2b1"
      },
      "execution_count": null,
      "outputs": [
        {
          "output_type": "stream",
          "name": "stdout",
          "text": [
            "Epoch: 10/100............. Loss: 2.3879\n",
            "Epoch: 20/100............. Loss: 2.0433\n",
            "Epoch: 30/100............. Loss: 1.6828\n",
            "Epoch: 40/100............. Loss: 1.3055\n",
            "Epoch: 50/100............. Loss: 0.9631\n",
            "Epoch: 60/100............. Loss: 0.6900\n",
            "Epoch: 70/100............. Loss: 0.4902\n",
            "Epoch: 80/100............. Loss: 0.3539\n",
            "Epoch: 90/100............. Loss: 0.2629\n",
            "Epoch: 100/100............. Loss: 0.2024\n"
          ]
        }
      ]
    },
    {
      "cell_type": "markdown",
      "source": [
        "Let’s test our model now and see what kind of output we will get. As a first step, we'll define some helper function to convert our model output back to text."
      ],
      "metadata": {
        "id": "uq0ungbpIAWk"
      }
    },
    {
      "cell_type": "code",
      "source": [
        "# This function takes in the model and character as arguments and returns the next character prediction and hidden state\n",
        "def predict(model, character):\n",
        "    # One-hot encoding our input to fit into the model\n",
        "    character = np.array([[char2int[c] for c in character]])\n",
        "    character = one_hot_encode(character, dict_size, character.shape[1], 1)\n",
        "    character = torch.from_numpy(character)\n",
        "    character.to(device)\n",
        "    \n",
        "    out, hidden = model(character)\n",
        "\n",
        "    prob = nn.functional.softmax(out[-1], dim=0).data\n",
        "    # Taking the class with the highest probability score from the output\n",
        "    char_ind = torch.max(prob, dim=0)[1].item()\n",
        "\n",
        "    return int2char[char_ind], hidden"
      ],
      "metadata": {
        "id": "fjXOYI1MHxPt"
      },
      "execution_count": null,
      "outputs": []
    },
    {
      "cell_type": "code",
      "source": [
        "# This function takes the desired output length and input characters as arguments, returning the produced sentence\n",
        "def sample(model, out_len, start='hey'):\n",
        "    model.eval() # eval mode\n",
        "    start = start.lower()\n",
        "    # First off, run through the starting characters\n",
        "    chars = [ch for ch in start]\n",
        "    size = out_len - len(chars)\n",
        "    # Now pass in the previous characters and get a new one\n",
        "    for ii in range(size):\n",
        "        char, h = predict(model, chars)\n",
        "        chars.append(char)\n",
        "\n",
        "    return ''.join(chars)"
      ],
      "metadata": {
        "id": "oB1qe3V6ICiS"
      },
      "execution_count": null,
      "outputs": []
    },
    {
      "cell_type": "markdown",
      "source": [
        "Let's run the function with our model and the starting words 'good'."
      ],
      "metadata": {
        "id": "i8piRDtKIFqB"
      }
    },
    {
      "cell_type": "code",
      "source": [
        "sample(model, 15, 'good')"
      ],
      "metadata": {
        "colab": {
          "base_uri": "https://localhost:8080/",
          "height": 35
        },
        "id": "NIaTf1EEIEDD",
        "outputId": "3e4d9e5b-d016-4207-d740-c1a356dc8a20"
      },
      "execution_count": null,
      "outputs": [
        {
          "output_type": "execute_result",
          "data": {
            "application/vnd.google.colaboratory.intrinsic+json": {
              "type": "string"
            },
            "text/plain": [
              "'good i am fine '"
            ]
          },
          "metadata": {},
          "execution_count": 25
        }
      ]
    },
    {
      "cell_type": "markdown",
      "source": [
        "As we can see, the model is able to come up with the sentence ‘good i am fine ‘ if we feed it with the words ‘good’. Pretty good for a few lines of code, yea?"
      ],
      "metadata": {
        "id": "zgrassiJIJfM"
      }
    },
    {
      "cell_type": "code",
      "source": [
        ""
      ],
      "metadata": {
        "id": "vGF6Rp4CIHQx"
      },
      "execution_count": null,
      "outputs": []
    },
    {
      "cell_type": "markdown",
      "source": [
        "## Flask"
      ],
      "metadata": {
        "id": "qm689hImZTDr"
      }
    },
    {
      "cell_type": "code",
      "source": [
        "!pip install flask"
      ],
      "metadata": {
        "colab": {
          "base_uri": "https://localhost:8080/"
        },
        "id": "okDIjaSJZULf",
        "outputId": "0349a23a-25ef-4c2a-ce72-be331d7f371a"
      },
      "execution_count": null,
      "outputs": [
        {
          "output_type": "stream",
          "name": "stdout",
          "text": [
            "Requirement already satisfied: flask in /usr/local/lib/python3.7/dist-packages (1.1.4)\n",
            "Requirement already satisfied: itsdangerous<2.0,>=0.24 in /usr/local/lib/python3.7/dist-packages (from flask) (1.1.0)\n",
            "Requirement already satisfied: click<8.0,>=5.1 in /usr/local/lib/python3.7/dist-packages (from flask) (7.1.2)\n",
            "Requirement already satisfied: Jinja2<3.0,>=2.10.1 in /usr/local/lib/python3.7/dist-packages (from flask) (2.11.3)\n",
            "Requirement already satisfied: Werkzeug<2.0,>=0.15 in /usr/local/lib/python3.7/dist-packages (from flask) (1.0.1)\n",
            "Requirement already satisfied: MarkupSafe>=0.23 in /usr/local/lib/python3.7/dist-packages (from Jinja2<3.0,>=2.10.1->flask) (2.0.1)\n"
          ]
        }
      ]
    },
    {
      "cell_type": "code",
      "source": [
        "from flask import Flask"
      ],
      "metadata": {
        "id": "HzPzEkfUZWFD"
      },
      "execution_count": null,
      "outputs": []
    },
    {
      "cell_type": "code",
      "source": [
        "app = Flask(__name__)\n",
        "\n",
        "@app.route(\"/\")\n",
        "def hello():\n",
        "  return \"Hello World\"\n",
        "\n",
        "if __name__ == \"__main__\":\n",
        "  app.run()"
      ],
      "metadata": {
        "colab": {
          "base_uri": "https://localhost:8080/"
        },
        "id": "-txrNb3cZbC1",
        "outputId": "1a282c4d-05ed-4b23-b5c6-5c37cdd9fccd"
      },
      "execution_count": null,
      "outputs": [
        {
          "output_type": "stream",
          "name": "stdout",
          "text": [
            " * Serving Flask app \"__main__\" (lazy loading)\n",
            " * Environment: production\n",
            "\u001b[31m   WARNING: This is a development server. Do not use it in a production deployment.\u001b[0m\n",
            "\u001b[2m   Use a production WSGI server instead.\u001b[0m\n",
            " * Debug mode: off\n"
          ]
        },
        {
          "output_type": "stream",
          "name": "stderr",
          "text": [
            " * Running on http://127.0.0.1:5000/ (Press CTRL+C to quit)\n"
          ]
        }
      ]
    },
    {
      "cell_type": "code",
      "source": [
        ""
      ],
      "metadata": {
        "id": "coWDeWoSZy1A"
      },
      "execution_count": null,
      "outputs": []
    }
  ]
}